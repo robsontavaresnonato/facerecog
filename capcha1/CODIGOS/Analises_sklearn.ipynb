{
 "cells": [
  {
   "cell_type": "code",
   "execution_count": 57,
   "metadata": {
    "collapsed": false
   },
   "outputs": [],
   "source": [
    "%matplotlib inline\n",
    "\"\"\" handling files support packages \"\"\"\n",
    "from glob import glob\n",
    "\n",
    "\"\"\" logic support packages \"\"\"\n",
    "import numpy as np\n",
    "import pandas as pd\n",
    "\n",
    "\"\"\" plot support packages \"\"\"\n",
    "import matplotlib.pyplot as plt\n",
    "import matplotlib.gridspec as gridspec\n",
    "from IPython.display import Image\n",
    "import pydotplus\n",
    "\n",
    "\"\"\" image trasformation packages \"\"\"\n",
    "from PIL import Image\n",
    "import skimage.io as skio\n",
    "\n",
    "\"\"\" statistical data visualization packages\"\"\"\n",
    "import seaborn as sns\n",
    "\n",
    "\"\"\" machine learning functions \"\"\"\n",
    "from sklearn.svm import SVC\n",
    "from sklearn.model_selection import train_test_split\n",
    "from sklearn import preprocessing\n",
    "from sklearn.externals import joblib\n",
    "from sklearn.model_selection import GridSearchCV\n",
    "\n",
    "\"\"\" seaborn configurations \"\"\"\n",
    "sns.set_style('white')\n",
    "sns.set_context('talk')\n",
    "plt.rcParams['figure.figsize'] = 20, 10"
   ]
  },
  {
   "cell_type": "code",
   "execution_count": 58,
   "metadata": {
    "collapsed": true
   },
   "outputs": [],
   "source": [
    "from funcoes import extract_stats"
   ]
  },
  {
   "cell_type": "markdown",
   "metadata": {},
   "source": [
    "# Tentativa de com base equilibrada p%"
   ]
  },
  {
   "cell_type": "code",
   "execution_count": 59,
   "metadata": {
    "collapsed": true
   },
   "outputs": [],
   "source": [
    "p = 30"
   ]
  },
  {
   "cell_type": "code",
   "execution_count": 60,
   "metadata": {
    "collapsed": false
   },
   "outputs": [],
   "source": [
    "combinacoes_equilibradas = pd.read_csv(\"../combinacoes\"+str(p)+\".txt\", header = 0, sep=\",\")"
   ]
  },
  {
   "cell_type": "code",
   "execution_count": 61,
   "metadata": {
    "collapsed": false,
    "scrolled": true
   },
   "outputs": [],
   "source": [
    "# le = preprocessing.LabelEncoder()\n",
    "# nomes = []\n",
    "# for i in sorted(glob('../letras/caracter*.png')):\n",
    "#     nomes.append(i.split(\"/\")[1] + \"/\" + i.split(\"/\")[2])"
   ]
  },
  {
   "cell_type": "code",
   "execution_count": 62,
   "metadata": {
    "collapsed": false
   },
   "outputs": [],
   "source": [
    "# le.fit(nomes)"
   ]
  },
  {
   "cell_type": "code",
   "execution_count": 63,
   "metadata": {
    "collapsed": false
   },
   "outputs": [],
   "source": [
    "# combinacoes30[\"char1\"] = le.transform(combinacoes30[\"char1\"])\n",
    "# combinacoes30[\"char2\"] = le.transform(combinacoes30[\"char2\"])"
   ]
  },
  {
   "cell_type": "code",
   "execution_count": 64,
   "metadata": {
    "collapsed": false
   },
   "outputs": [],
   "source": [
    "#X_train, X_test, y_train, y_test = train_test_split(combinacoes30[[\"char1\", \"char2\", \"MSE\", \"ISS\", \"MSE_centro\", \"ISS_centro\"]],\n",
    "#                                                                    combinacoes30[\"resposta\"], test_size=0.3, random_state=0)"
   ]
  },
  {
   "cell_type": "code",
   "execution_count": 65,
   "metadata": {
    "collapsed": false
   },
   "outputs": [],
   "source": [
    "X_train, X_test, y_train, y_test = train_test_split(combinacoes_equilibradas[[\"MSE\", \"ISS\", \"MSE_centro\", \"ISS_centro\",\\\n",
    "                                                                  \"MSE_canny\",\"ISS_canny\",\"MSE_canny_centro\",\"ISS_canny_centro\",\\\n",
    "                                                                  \"MSE_skeleton\",\"ISS_skeleton\",\"MSE_skeleton_centro\",\"ISS_skeleton_centro\"]],\n",
    "                                                                    combinacoes_equilibradas[\"resposta\"], test_size=0.3, random_state=0)"
   ]
  },
  {
   "cell_type": "markdown",
   "metadata": {},
   "source": [
    "## SVM"
   ]
  },
  {
   "cell_type": "code",
   "execution_count": 66,
   "metadata": {
    "collapsed": false
   },
   "outputs": [
    {
     "name": "stdout",
     "output_type": "stream",
     "text": [
      "CPU times: user 0 ns, sys: 0 ns, total: 0 ns\n",
      "Wall time: 6.2 µs\n"
     ]
    }
   ],
   "source": [
    "%%time\n",
    "#from sklearn.svm import SVC\n",
    "#clf = SVC() # kernel = 'poly', degree = 2, max_iter = 100000\n",
    "\n",
    "#SVMparams = { 'kernel' : ('linear', 'poly', 'rbf')} #, 'sigmoid')}\n",
    "\n",
    "#svr = SVC()\n",
    "#clf = GridSearchCV(svr, SVMparams)\n",
    "\n",
    "#clf.fit(X_train, y_train)\n",
    "#print( \"Score: {0}\".format(clf.score(X_test, y_test)) )\n",
    "#print( \"Best parameters: \" + clf.best_params_ )"
   ]
  },
  {
   "cell_type": "markdown",
   "metadata": {},
   "source": [
    "## Decision Tree"
   ]
  },
  {
   "cell_type": "code",
   "execution_count": 67,
   "metadata": {
    "collapsed": false,
    "scrolled": true
   },
   "outputs": [
    {
     "name": "stdout",
     "output_type": "stream",
     "text": [
      "Score: 0.7412744877279892\n",
      "Best parameters: {'criterion': 'entropy', 'min_samples_leaf': 40, 'min_samples_split': 2}\n",
      "CPU times: user 15.1 s, sys: 0 ns, total: 15.1 s\n",
      "Wall time: 15.4 s\n"
     ]
    }
   ],
   "source": [
    "%%time\n",
    "from sklearn import tree\n",
    "\n",
    "DTparams = { 'criterion' : ('gini', 'entropy'),\n",
    "           'min_samples_split' : (2, 10, 40),\n",
    "           'min_samples_leaf' : (1, 3, 7, 40)}\n",
    "\n",
    "svr = tree.DecisionTreeClassifier()\n",
    "clf1 = GridSearchCV(svr, DTparams) #criterion = \"gini\", min_samples_split = 80, min_samples_leaf = 3\n",
    "\n",
    "clf1.fit( X = X_train, y = y_train )\n",
    "print( \"Score: {0}\".format(clf1.score(X_test, y_test)) )\n",
    "print( \"Best parameters: \" + str(clf1.best_params_) )"
   ]
  },
  {
   "cell_type": "code",
   "execution_count": 68,
   "metadata": {
    "collapsed": false,
    "scrolled": true
   },
   "outputs": [],
   "source": [
    "# Tentativa de plotar a árvore do modelo acima\n",
    "#dot_data = tree.export_graphviz(clf1, out_file=None, \n",
    "#                         feature_names = [\"MSE\",\"ISS\",\n",
    "#                                          \"MSE_centro\",\"ISS_centro\"],  \n",
    "#                         class_names = combinacoes30[\"resposta\"],  \n",
    "#                         filled = True, rounded = True,  \n",
    "#                         special_characters=True)\n",
    "\n",
    "#graph = pydotplus.graph_from_dot_data(dot_data)  \n",
    "#Image(graph.create_png())\n",
    "##graph.write_pdf(\"perfil_anovalor.pdf\")"
   ]
  },
  {
   "cell_type": "markdown",
   "metadata": {},
   "source": [
    "# Random Forest"
   ]
  },
  {
   "cell_type": "code",
   "execution_count": 69,
   "metadata": {
    "collapsed": true
   },
   "outputs": [],
   "source": [
    "from sklearn.ensemble import RandomForestClassifier\n",
    "clfRF_balanced = RandomForestClassifier()"
   ]
  },
  {
   "cell_type": "code",
   "execution_count": 70,
   "metadata": {
    "collapsed": false
   },
   "outputs": [
    {
     "name": "stdout",
     "output_type": "stream",
     "text": [
      "Score: 0.7577122269759063\n",
      "Best parameters: {'criterion': 'entropy', 'n_estimators': 10, 'min_samples_leaf': 10, 'min_samples_split': 40}\n",
      "CPU times: user 1min 10s, sys: 0 ns, total: 1min 10s\n",
      "Wall time: 1min 10s\n"
     ]
    }
   ],
   "source": [
    "%%time\n",
    "\n",
    "RFparams = {'n_estimators' : (10, 2, 3, 5, 7),\n",
    "           'criterion' : ('gini', 'entropy'),\n",
    "           'min_samples_split' : (2, 10, 40),\n",
    "           'min_samples_leaf' : (1, 5, 10, 40)}\n",
    "\n",
    "svr = RandomForestClassifier()\n",
    "clfRF_balanced = GridSearchCV(svr, RFparams)\n",
    "clfRF_balanced.fit( X = X_train, y = y_train )\n",
    "print( \"Score: {0}\".format(clfRF_balanced.score(X_test, y_test)) )\n",
    "print( \"Best parameters: \" + str(clfRF_balanced.best_params_) )"
   ]
  },
  {
   "cell_type": "code",
   "execution_count": 76,
   "metadata": {
    "collapsed": false
   },
   "outputs": [
    {
     "name": "stdout",
     "output_type": "stream",
     "text": [
      "Score: 0.7637919387525333\n",
      "CPU times: user 576 ms, sys: 0 ns, total: 576 ms\n",
      "Wall time: 575 ms\n"
     ]
    }
   ],
   "source": [
    "%%time\n",
    "\n",
    "from sklearn.ensemble import RandomForestClassifier\n",
    "clfRF_balanced = RandomForestClassifier(criterion = 'entropy', n_estimators=10, min_samples_leaf=10,\n",
    "                                       min_samples_split=40)\n",
    "clfRF_balanced.fit( X = X_train, y = y_train )\n",
    "print( \"Score: {0}\".format(clfRF_balanced.score(X_test, y_test)) )"
   ]
  },
  {
   "cell_type": "markdown",
   "metadata": {},
   "source": [
    "## Logistic Regression"
   ]
  },
  {
   "cell_type": "code",
   "execution_count": 71,
   "metadata": {
    "collapsed": false
   },
   "outputs": [
    {
     "name": "stdout",
     "output_type": "stream",
     "text": [
      "Score: 0.7592884485476245\n",
      "Best parameters: {'solver': 'newton-cg'}\n",
      "CPU times: user 11.4 s, sys: 23.2 s, total: 34.6 s\n",
      "Wall time: 19.1 s\n"
     ]
    }
   ],
   "source": [
    "%%time\n",
    "from sklearn.linear_model import LogisticRegression\n",
    "\n",
    "LRparams = {'solver' : ('newton-cg', 'lbfgs', 'liblinear', 'sag')}\n",
    "\n",
    "svr = LogisticRegression()\n",
    "clfLR = GridSearchCV(svr, LRparams)\n",
    "clfLR.fit( X = X_train, y = y_train )\n",
    "print( \"Score: {0}\".format(clfLR.score(X_test, y_test)) )\n",
    "print( \"Best parameters: \" + str(clfLR.best_params_) )"
   ]
  },
  {
   "cell_type": "markdown",
   "metadata": {},
   "source": [
    "# Multi-layer Perceptron classifier"
   ]
  },
  {
   "cell_type": "code",
   "execution_count": 72,
   "metadata": {
    "collapsed": false
   },
   "outputs": [
    {
     "name": "stdout",
     "output_type": "stream",
     "text": [
      "Score: 0.7108759288448547\n",
      "Best parameters: <bound method BaseEstimator.get_params of MLPClassifier(activation='relu', alpha=0.0001, batch_size='auto', beta_1=0.9,\n",
      "       beta_2=0.999, early_stopping=False, epsilon=1e-08,\n",
      "       hidden_layer_sizes=(100,), learning_rate='constant',\n",
      "       learning_rate_init=0.001, max_iter=200, momentum=0.9,\n",
      "       nesterovs_momentum=True, power_t=0.5, random_state=None,\n",
      "       shuffle=True, solver='adam', tol=0.0001, validation_fraction=0.1,\n",
      "       verbose=False, warm_start=False)>\n",
      "CPU times: user 604 ms, sys: 1.74 s, total: 2.34 s\n",
      "Wall time: 1.25 s\n"
     ]
    }
   ],
   "source": [
    "%%time\n",
    "from sklearn.neural_network import MLPClassifier\n",
    "\n",
    "MLPparams = {'hidden_layer_sizes':(100, 20, 50),\n",
    "            'activation' : ('identity', 'logistic', 'tanh', 'relu'),\n",
    "            'solver' : ('lbfgs', 'sgd', 'adam')}\n",
    "\n",
    "svr = MLPClassifier()\n",
    "clfMLP = GridSearchCV(svr, MLPparams)\n",
    "clfMLP = MLPClassifier()\n",
    "clfMLP.fit( X = X_train, y = y_train )\n",
    "print( \"Score: {0}\".format(clfMLP.score(X_test, y_test)) )\n",
    "print( \"Best parameters: \" + str(clfMLP.get_params) )"
   ]
  },
  {
   "cell_type": "markdown",
   "metadata": {},
   "source": [
    "# Binarizando o melhor modelo"
   ]
  },
  {
   "cell_type": "code",
   "execution_count": 73,
   "metadata": {
    "collapsed": false
   },
   "outputs": [],
   "source": [
    "#imgA = skio.imread(\"../letras/caracter1.png\")\n",
    "#imgB = skio.imread(\"../letras/caracter15.png\")\n",
    "\n",
    "#mse, iss, mse_centro, iss_centro,\\\n",
    "#\t\t\tmse_canny, iss_canny, mse_canny_centro, iss_canny_centro,\\\n",
    "#\t\t\tmse_skeleton, iss_skeleton, mse_skeleton_centro, iss_skeleton_centro = extract_stats(imgA, imgB)\n",
    "        \n",
    "#print(clfRF_balanced.predict( [[mse, iss, mse_centro, iss_centro,\n",
    "#\t\t\tmse_canny, iss_canny, mse_canny_centro, iss_canny_centro,\n",
    "#\t\t\tmse_skeleton, iss_skeleton, mse_skeleton_centro, iss_skeleton_centro]]))"
   ]
  },
  {
   "cell_type": "code",
   "execution_count": 77,
   "metadata": {
    "collapsed": false
   },
   "outputs": [
    {
     "data": {
      "text/plain": [
       "['classifier_balanced.pkl']"
      ]
     },
     "execution_count": 77,
     "metadata": {},
     "output_type": "execute_result"
    }
   ],
   "source": [
    "joblib.dump(clfRF_balanced, 'classifier_balanced.pkl') "
   ]
  },
  {
   "cell_type": "markdown",
   "metadata": {},
   "source": [
    "# Tentativa com base inteira"
   ]
  },
  {
   "cell_type": "code",
   "execution_count": null,
   "metadata": {
    "collapsed": true
   },
   "outputs": [],
   "source": [
    "combinacoes = pd.read_csv(\"../combinacoes_2.txt\", header = 0)"
   ]
  },
  {
   "cell_type": "code",
   "execution_count": null,
   "metadata": {
    "collapsed": false
   },
   "outputs": [],
   "source": [
    "# combinacoes[\"char1\"] = le.transform(combinacoes[\"char1\"])\n",
    "# combinacoes[\"char2\"] = le.transform(combinacoes[\"char2\"])"
   ]
  },
  {
   "cell_type": "code",
   "execution_count": null,
   "metadata": {
    "collapsed": false
   },
   "outputs": [],
   "source": [
    "X_train, X_test, y_train, y_test = train_test_split(combinacoes[[\"MSE\", \"ISS\", \"MSE_centro\", \"ISS_centro\",\n",
    "                                                                  \"MSE_canny\",\"ISS_canny\",\"MSE_canny_centro\",\"ISS_canny_centro\",\n",
    "                                                                  \"MSE_skeleton\",\"ISS_skeleton\",\"MSE_skeleton_centro\",\"ISS_skeleton_centro\"]],\n",
    "                                                                    combinacoes[\"resposta\"], test_size=0.3, random_state=0)"
   ]
  },
  {
   "cell_type": "code",
   "execution_count": null,
   "metadata": {
    "collapsed": true
   },
   "outputs": [],
   "source": []
  },
  {
   "cell_type": "markdown",
   "metadata": {},
   "source": [
    "## SVM"
   ]
  },
  {
   "cell_type": "code",
   "execution_count": null,
   "metadata": {
    "collapsed": true
   },
   "outputs": [],
   "source": [
    "#%time\n",
    "#clf.fit(X_train, y_train)\n",
    "#clf.score(X_test, y_test)"
   ]
  },
  {
   "cell_type": "markdown",
   "metadata": {},
   "source": [
    "# Decision Tree"
   ]
  },
  {
   "cell_type": "code",
   "execution_count": null,
   "metadata": {
    "collapsed": false
   },
   "outputs": [],
   "source": [
    "%%time\n",
    "from sklearn import tree\n",
    "\n",
    "clftree = tree.DecisionTreeClassifier() # criterion = \"gini\", min_samples_split = 80, min_samples_leaf = 3\n",
    "\n",
    "clftree.fit( X = X_train, y = y_train )\n",
    "print( clftree.score(X_test, y_test) )"
   ]
  },
  {
   "cell_type": "code",
   "execution_count": null,
   "metadata": {
    "collapsed": false
   },
   "outputs": [],
   "source": [
    "# Tentativa de plotar a árvore do modelo acima\n",
    "#dot_data = tree.export_graphviz(clf1, out_file=None, \n",
    "#                         feature_names = [\"char1\", \"char2\",\"MSE\",\"ISS\",\"MSE_centro\",\"ISS_centro\"],  \n",
    "#                         class_names = combinacoes[\"resposta\"],  \n",
    "#                         filled = True, rounded = True,  \n",
    "#                         special_characters=True)\n",
    "\n",
    "#graph = pydotplus.graph_from_dot_data(dot_data)  \n",
    "#Image(graph.create_png())\n",
    "##graph.write_pdf(\"perfil_anovalor.pdf\")"
   ]
  },
  {
   "cell_type": "markdown",
   "metadata": {},
   "source": [
    "## Random Forest"
   ]
  },
  {
   "cell_type": "code",
   "execution_count": null,
   "metadata": {
    "collapsed": true
   },
   "outputs": [],
   "source": [
    "from sklearn.ensemble import RandomForestClassifier\n",
    "clfRF = RandomForestClassifier()"
   ]
  },
  {
   "cell_type": "code",
   "execution_count": null,
   "metadata": {
    "collapsed": false
   },
   "outputs": [],
   "source": [
    "%%time\n",
    "clfRF.fit( X = X_train, y = y_train )\n",
    "print( clfRF.score(X_test, y_test) )"
   ]
  },
  {
   "cell_type": "markdown",
   "metadata": {},
   "source": [
    "## Binarizando o melhor modelo"
   ]
  },
  {
   "cell_type": "code",
   "execution_count": null,
   "metadata": {
    "collapsed": false
   },
   "outputs": [],
   "source": [
    "#joblib.dump(clf1, 'classifier.pkl') "
   ]
  },
  {
   "cell_type": "code",
   "execution_count": null,
   "metadata": {
    "collapsed": false
   },
   "outputs": [],
   "source": [
    "#joblib.dump(clfRF, 'classifierRF.pkl') "
   ]
  },
  {
   "cell_type": "markdown",
   "metadata": {},
   "source": [
    "## testes temporários"
   ]
  },
  {
   "cell_type": "code",
   "execution_count": null,
   "metadata": {
    "collapsed": false
   },
   "outputs": [],
   "source": [
    "# alguns testes temporários\n",
    "from funcoes import ler_letras, compare_images\n",
    "_, letters_dict = ler_letras(\"../letras.csv\")\n",
    "\n",
    "img1 = skio.imread(\"../\" + 'letras/caracter0.png')\n",
    "img2 = skio.imread(\"../\" + 'letras/caracter1.png')\n",
    "\n",
    "m, s = compare_images(img1, img2)\n",
    "mc, cs = compare_images(img1[10:40,], img2[10:40,])\n",
    "    \n",
    "print(clf1.predict([[m, s, mc, cs]])[0] == 1)"
   ]
  },
  {
   "cell_type": "code",
   "execution_count": null,
   "metadata": {
    "collapsed": true
   },
   "outputs": [],
   "source": []
  },
  {
   "cell_type": "code",
   "execution_count": null,
   "metadata": {
    "collapsed": true
   },
   "outputs": [],
   "source": []
  }
 ],
 "metadata": {
  "kernelspec": {
   "display_name": "Python 3",
   "language": "python",
   "name": "python3"
  },
  "language_info": {
   "codemirror_mode": {
    "name": "ipython",
    "version": 3
   },
   "file_extension": ".py",
   "mimetype": "text/x-python",
   "name": "python",
   "nbconvert_exporter": "python",
   "pygments_lexer": "ipython3",
   "version": "3.5.2"
  }
 },
 "nbformat": 4,
 "nbformat_minor": 1
}
