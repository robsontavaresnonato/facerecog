{
 "cells": [
  {
   "cell_type": "code",
   "execution_count": 1,
   "metadata": {
    "collapsed": false
   },
   "outputs": [],
   "source": [
    "%matplotlib inline\n",
    "\"\"\" handling files support packages \"\"\"\n",
    "from glob import glob\n",
    "\n",
    "\"\"\" logic support packages \"\"\"\n",
    "import numpy as np\n",
    "import pandas as pd\n",
    "\n",
    "\"\"\" plot support packages \"\"\"\n",
    "import matplotlib.pyplot as plt\n",
    "import matplotlib.gridspec as gridspec\n",
    "from IPython.display import Image\n",
    "import pydotplus\n",
    "\n",
    "\"\"\" image trasformation packages \"\"\"\n",
    "from PIL import Image\n",
    "import skimage.io as skio\n",
    "\n",
    "\"\"\" statistical data visualization packages\"\"\"\n",
    "import seaborn as sns\n",
    "\n",
    "\"\"\" machine learning functions \"\"\"\n",
    "from sklearn.svm import SVC\n",
    "from sklearn.model_selection import train_test_split\n",
    "from sklearn import preprocessing\n",
    "from sklearn.externals import joblib\n",
    "\n",
    "\"\"\" seaborn configurations \"\"\"\n",
    "sns.set_style('white')\n",
    "sns.set_context('talk')\n",
    "plt.rcParams['figure.figsize'] = 20, 10"
   ]
  },
  {
   "cell_type": "markdown",
   "metadata": {},
   "source": [
    "# Tentativa de com base equilibrada p%"
   ]
  },
  {
   "cell_type": "code",
   "execution_count": 2,
   "metadata": {
    "collapsed": false
   },
   "outputs": [],
   "source": [
    "combinacoes30 = pd.read_csv(\"../combinacoes50_2.txt\", header = 0)"
   ]
  },
  {
   "cell_type": "code",
   "execution_count": 3,
   "metadata": {
    "collapsed": false,
    "scrolled": true
   },
   "outputs": [],
   "source": [
    "le = preprocessing.LabelEncoder()\n",
    "nomes = []\n",
    "for i in sorted(glob('../letras/caracter*.png')):\n",
    "    nomes.append(i.split(\"/\")[1] + \"/\" + i.split(\"/\")[2])"
   ]
  },
  {
   "cell_type": "code",
   "execution_count": 4,
   "metadata": {
    "collapsed": false
   },
   "outputs": [
    {
     "data": {
      "text/plain": [
       "LabelEncoder()"
      ]
     },
     "execution_count": 4,
     "metadata": {},
     "output_type": "execute_result"
    }
   ],
   "source": [
    "le.fit(nomes)"
   ]
  },
  {
   "cell_type": "code",
   "execution_count": 5,
   "metadata": {
    "collapsed": true
   },
   "outputs": [],
   "source": [
    "combinacoes30[\"char1\"] = le.transform(combinacoes30[\"char1\"])\n",
    "combinacoes30[\"char2\"] = le.transform(combinacoes30[\"char2\"])"
   ]
  },
  {
   "cell_type": "code",
   "execution_count": 6,
   "metadata": {
    "collapsed": false
   },
   "outputs": [],
   "source": [
    "#X_train, X_test, y_train, y_test = train_test_split(combinacoes30[[\"char1\", \"char2\", \"MSE\", \"ISS\", \"MSE_centro\", \"ISS_centro\"]],\n",
    "#                                                                    combinacoes30[\"resposta\"], test_size=0.3, random_state=0)"
   ]
  },
  {
   "cell_type": "code",
   "execution_count": 7,
   "metadata": {
    "collapsed": true
   },
   "outputs": [],
   "source": [
    "X_train, X_test, y_train, y_test = train_test_split(combinacoes30[[\"MSE\", \"ISS\", \"MSE_centro\", \"ISS_centro\",\n",
    "                                                                  \"MSE_canny\",\"ISS_canny\",\"MSE_canny_centro\",\"ISS_canny_centro\",\n",
    "                                                                  \"MSE_skeleton\",\"ISS_skeleton\",\"MSE_skeleton_centro\",\"ISS_skeleton_centro\"]]],\n",
    "                                                                    combinacoes30[\"resposta\"], test_size=0.3, random_state=0)"
   ]
  },
  {
   "cell_type": "markdown",
   "metadata": {},
   "source": [
    "## SVM"
   ]
  },
  {
   "cell_type": "code",
   "execution_count": 8,
   "metadata": {
    "collapsed": false
   },
   "outputs": [
    {
     "name": "stdout",
     "output_type": "stream",
     "text": [
      "0.611632270169\n",
      "CPU times: user 4.14 s, sys: 8 ms, total: 4.15 s\n",
      "Wall time: 4.16 s\n"
     ]
    }
   ],
   "source": [
    "%%time\n",
    "clf = SVC(kernel = 'poly', degree = 2, max_iter = 100000)\n",
    "clf.fit(X_train, y_train)\n",
    "print(clf.score(X_test, y_test))"
   ]
  },
  {
   "cell_type": "markdown",
   "metadata": {},
   "source": [
    "## Decision Tree"
   ]
  },
  {
   "cell_type": "code",
   "execution_count": 9,
   "metadata": {
    "collapsed": false,
    "scrolled": true
   },
   "outputs": [
    {
     "name": "stdout",
     "output_type": "stream",
     "text": [
      "0.619512195122\n",
      "CPU times: user 36 ms, sys: 0 ns, total: 36 ms\n",
      "Wall time: 41.9 ms\n"
     ]
    }
   ],
   "source": [
    "%%time\n",
    "from sklearn import tree\n",
    "\n",
    "clf1 = tree.DecisionTreeClassifier(criterion = \"gini\", min_samples_split = 80, min_samples_leaf = 3)\n",
    "\n",
    "clf1.fit( X = X_train, y = y_train )\n",
    "print( clf1.score(X_test, y_test) )"
   ]
  },
  {
   "cell_type": "code",
   "execution_count": 10,
   "metadata": {
    "collapsed": false,
    "scrolled": true
   },
   "outputs": [],
   "source": [
    "# Tentativa de plotar a árvore do modelo acima\n",
    "#dot_data = tree.export_graphviz(clf1, out_file=None, \n",
    "#                         feature_names = [\"MSE\",\"ISS\",\n",
    "#                                          \"MSE_centro\",\"ISS_centro\"],  \n",
    "#                         class_names = combinacoes30[\"resposta\"],  \n",
    "#                         filled = True, rounded = True,  \n",
    "#                         special_characters=True)\n",
    "\n",
    "#graph = pydotplus.graph_from_dot_data(dot_data)  \n",
    "#Image(graph.create_png())\n",
    "##graph.write_pdf(\"perfil_anovalor.pdf\")"
   ]
  },
  {
   "cell_type": "markdown",
   "metadata": {},
   "source": [
    "# Random Forest"
   ]
  },
  {
   "cell_type": "code",
   "execution_count": 11,
   "metadata": {
    "collapsed": true
   },
   "outputs": [],
   "source": [
    "from sklearn.ensemble import RandomForestClassifier\n",
    "clfRF_balanced = RandomForestClassifier()"
   ]
  },
  {
   "cell_type": "code",
   "execution_count": 12,
   "metadata": {
    "collapsed": false
   },
   "outputs": [
    {
     "name": "stdout",
     "output_type": "stream",
     "text": [
      "0.613133208255\n",
      "CPU times: user 148 ms, sys: 4 ms, total: 152 ms\n",
      "Wall time: 149 ms\n"
     ]
    }
   ],
   "source": [
    "%%time\n",
    "clfRF_balanced.fit( X = X_train, y = y_train )\n",
    "print( clfRF_balanced.score(X_test, y_test) )"
   ]
  },
  {
   "cell_type": "markdown",
   "metadata": {},
   "source": [
    "# Binarizando o melhor modelo"
   ]
  },
  {
   "cell_type": "code",
   "execution_count": 13,
   "metadata": {
    "collapsed": false
   },
   "outputs": [
    {
     "data": {
      "text/plain": [
       "['classifier_balanced.pkl']"
      ]
     },
     "execution_count": 13,
     "metadata": {},
     "output_type": "execute_result"
    }
   ],
   "source": [
    "#joblib.dump(clf, 'classifier_balanced.pkl') "
   ]
  },
  {
   "cell_type": "markdown",
   "metadata": {},
   "source": [
    "# Tentativa com base inteira"
   ]
  },
  {
   "cell_type": "code",
   "execution_count": 14,
   "metadata": {
    "collapsed": true
   },
   "outputs": [],
   "source": [
    "combinacoes = pd.read_csv(\"../combinacoes_2.txt\", header = 0)"
   ]
  },
  {
   "cell_type": "code",
   "execution_count": 15,
   "metadata": {
    "collapsed": false
   },
   "outputs": [],
   "source": [
    "combinacoes[\"char1\"] = le.transform(combinacoes[\"char1\"])\n",
    "combinacoes[\"char2\"] = le.transform(combinacoes[\"char2\"])"
   ]
  },
  {
   "cell_type": "code",
   "execution_count": 17,
   "metadata": {
    "collapsed": true
   },
   "outputs": [],
   "source": [
    "X_train, X_test, y_train, y_test = train_test_split(combinacoes[[\"MSE\", \"ISS\", \"MSE_centro\", \"ISS_centro\",\n",
    "                                                                  \"MSE_canny\",\"ISS_canny\",\"MSE_canny_centro\",\"ISS_canny_centro\",\n",
    "                                                                  \"MSE_skeleton\",\"ISS_skeleton\",\"MSE_skeleton_centro\",\"ISS_skeleton_centro\"]]],\n",
    "                                                                    combinacoes30[\"resposta\"], test_size=0.3, random_state=0)"
   ]
  },
  {
   "cell_type": "markdown",
   "metadata": {},
   "source": [
    "## SVM"
   ]
  },
  {
   "cell_type": "code",
   "execution_count": 18,
   "metadata": {
    "collapsed": true
   },
   "outputs": [],
   "source": [
    "#%time\n",
    "#clf.fit(X_train, y_train)\n",
    "#clf.score(X_test, y_test)"
   ]
  },
  {
   "cell_type": "markdown",
   "metadata": {},
   "source": [
    "# Decision Tree"
   ]
  },
  {
   "cell_type": "code",
   "execution_count": 19,
   "metadata": {
    "collapsed": false
   },
   "outputs": [
    {
     "name": "stdout",
     "output_type": "stream",
     "text": [
      "0.981970257703\n",
      "CPU times: user 2.02 s, sys: 8 ms, total: 2.03 s\n",
      "Wall time: 2.04 s\n"
     ]
    }
   ],
   "source": [
    "%%time\n",
    "clf1.fit( X = X_train, y = y_train )\n",
    "print( clf1.score(X_test, y_test) )"
   ]
  },
  {
   "cell_type": "code",
   "execution_count": 20,
   "metadata": {
    "collapsed": false
   },
   "outputs": [],
   "source": [
    "# Tentativa de plotar a árvore do modelo acima\n",
    "#dot_data = tree.export_graphviz(clf1, out_file=None, \n",
    "#                         feature_names = [\"char1\", \"char2\",\"MSE\",\"ISS\",\"MSE_centro\",\"ISS_centro\"],  \n",
    "#                         class_names = combinacoes[\"resposta\"],  \n",
    "#                         filled = True, rounded = True,  \n",
    "#                         special_characters=True)\n",
    "\n",
    "#graph = pydotplus.graph_from_dot_data(dot_data)  \n",
    "#Image(graph.create_png())\n",
    "##graph.write_pdf(\"perfil_anovalor.pdf\")"
   ]
  },
  {
   "cell_type": "markdown",
   "metadata": {},
   "source": [
    "## Random Forest"
   ]
  },
  {
   "cell_type": "code",
   "execution_count": 21,
   "metadata": {
    "collapsed": true
   },
   "outputs": [],
   "source": [
    "from sklearn.ensemble import RandomForestClassifier\n",
    "clfRF = RandomForestClassifier()"
   ]
  },
  {
   "cell_type": "code",
   "execution_count": 22,
   "metadata": {
    "collapsed": false
   },
   "outputs": [
    {
     "name": "stdout",
     "output_type": "stream",
     "text": [
      "0.982363387423\n",
      "CPU times: user 7.99 s, sys: 0 ns, total: 7.99 s\n",
      "Wall time: 7.99 s\n"
     ]
    }
   ],
   "source": [
    "%%time\n",
    "clfRF.fit( X = X_train, y = y_train )\n",
    "print( clfRF.score(X_test, y_test) )"
   ]
  },
  {
   "cell_type": "markdown",
   "metadata": {},
   "source": [
    "## Binarizando o melhor modelo"
   ]
  },
  {
   "cell_type": "code",
   "execution_count": 23,
   "metadata": {
    "collapsed": false
   },
   "outputs": [
    {
     "data": {
      "text/plain": [
       "['classifier.pkl']"
      ]
     },
     "execution_count": 23,
     "metadata": {},
     "output_type": "execute_result"
    }
   ],
   "source": [
    "#joblib.dump(clf1, 'classifier.pkl') "
   ]
  },
  {
   "cell_type": "code",
   "execution_count": 24,
   "metadata": {
    "collapsed": false
   },
   "outputs": [
    {
     "data": {
      "text/plain": [
       "['classifierRF.pkl']"
      ]
     },
     "execution_count": 24,
     "metadata": {},
     "output_type": "execute_result"
    }
   ],
   "source": [
    "#joblib.dump(clfRF, 'classifierRF.pkl') "
   ]
  },
  {
   "cell_type": "markdown",
   "metadata": {},
   "source": [
    "## testes temporários"
   ]
  },
  {
   "cell_type": "code",
   "execution_count": 25,
   "metadata": {
    "collapsed": false
   },
   "outputs": [
    {
     "name": "stdout",
     "output_type": "stream",
     "text": [
      "False\n"
     ]
    }
   ],
   "source": [
    "# alguns testes temporários\n",
    "from funcoes import ler_letras, compare_images\n",
    "_, letters_dict = ler_letras(\"../letras.csv\")\n",
    "\n",
    "img1 = skio.imread(\"../\" + 'letras/caracter0.png')\n",
    "img2 = skio.imread(\"../\" + 'letras/caracter1.png')\n",
    "\n",
    "m, s = compare_images(img1, img2)\n",
    "mc, cs = compare_images(img1[10:40,], img2[10:40,])\n",
    "    \n",
    "print(clf1.predict([[m, s, mc, cs]])[0] == 1)"
   ]
  },
  {
   "cell_type": "code",
   "execution_count": null,
   "metadata": {
    "collapsed": true
   },
   "outputs": [],
   "source": []
  },
  {
   "cell_type": "code",
   "execution_count": null,
   "metadata": {
    "collapsed": true
   },
   "outputs": [],
   "source": []
  }
 ],
 "metadata": {
  "kernelspec": {
   "display_name": "Python 3",
   "language": "python",
   "name": "python3"
  },
  "language_info": {
   "codemirror_mode": {
    "name": "ipython",
    "version": 3
   },
   "file_extension": ".py",
   "mimetype": "text/x-python",
   "name": "python",
   "nbconvert_exporter": "python",
   "pygments_lexer": "ipython3",
   "version": "3.5.2"
  }
 },
 "nbformat": 4,
 "nbformat_minor": 1
}
