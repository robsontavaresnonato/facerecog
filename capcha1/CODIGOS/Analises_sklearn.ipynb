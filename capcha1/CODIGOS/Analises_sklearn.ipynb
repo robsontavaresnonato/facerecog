{
 "cells": [
  {
   "cell_type": "code",
   "execution_count": 1,
   "metadata": {
    "collapsed": false
   },
   "outputs": [],
   "source": [
    "%matplotlib inline\n",
    "\"\"\" handling files support packages \"\"\"\n",
    "from glob import glob\n",
    "\n",
    "\"\"\" logic support packages \"\"\"\n",
    "import numpy as np\n",
    "import pandas as pd\n",
    "\n",
    "\"\"\" plot support packages \"\"\"\n",
    "import matplotlib.pyplot as plt\n",
    "import matplotlib.gridspec as gridspec\n",
    "from IPython.display import Image\n",
    "#import pydotplus\n",
    "\n",
    "\"\"\" image trasformation packages \"\"\"\n",
    "from PIL import Image\n",
    "import skimage.io as skio\n",
    "\n",
    "\"\"\" statistical data visualization packages\"\"\"\n",
    "import seaborn as sns\n",
    "\n",
    "\"\"\" machine learning functions \"\"\"\n",
    "from sklearn.svm import SVC\n",
    "from sklearn.model_selection import train_test_split\n",
    "from sklearn import preprocessing\n",
    "from sklearn.externals import joblib\n",
    "from sklearn.model_selection import GridSearchCV\n",
    "\n",
    "\"\"\" seaborn configurations \"\"\"\n",
    "sns.set_style('white')\n",
    "sns.set_context('talk')\n",
    "plt.rcParams['figure.figsize'] = 20, 10"
   ]
  },
  {
   "cell_type": "code",
   "execution_count": 2,
   "metadata": {
    "collapsed": true
   },
   "outputs": [],
   "source": [
    "from funcoes import extract_stats"
   ]
  },
  {
   "cell_type": "markdown",
   "metadata": {},
   "source": [
    "# Tentativa de com base equilibrada p%"
   ]
  },
  {
   "cell_type": "code",
   "execution_count": 3,
   "metadata": {
    "collapsed": true
   },
   "outputs": [],
   "source": [
    "p = 30"
   ]
  },
  {
   "cell_type": "code",
   "execution_count": 4,
   "metadata": {
    "collapsed": false
   },
   "outputs": [],
   "source": [
    "combinacoes_equilibradas = pd.read_csv(\"../combinacoes\"+str(p)+\".txt\", header = 0, sep=\",\")"
   ]
  },
  {
   "cell_type": "code",
   "execution_count": 5,
   "metadata": {
    "collapsed": false,
    "scrolled": true
   },
   "outputs": [],
   "source": [
    "# le = preprocessing.LabelEncoder()\n",
    "# nomes = []\n",
    "# for i in sorted(glob('../letras/caracter*.png')):\n",
    "#     nomes.append(i.split(\"/\")[1] + \"/\" + i.split(\"/\")[2])"
   ]
  },
  {
   "cell_type": "code",
   "execution_count": 6,
   "metadata": {
    "collapsed": false
   },
   "outputs": [],
   "source": [
    "# le.fit(nomes)"
   ]
  },
  {
   "cell_type": "code",
   "execution_count": 7,
   "metadata": {
    "collapsed": false
   },
   "outputs": [],
   "source": [
    "# combinacoes30[\"char1\"] = le.transform(combinacoes30[\"char1\"])\n",
    "# combinacoes30[\"char2\"] = le.transform(combinacoes30[\"char2\"])"
   ]
  },
  {
   "cell_type": "code",
   "execution_count": 8,
   "metadata": {
    "collapsed": false
   },
   "outputs": [],
   "source": [
    "#X_train, X_test, y_train, y_test = train_test_split(combinacoes30[[\"char1\", \"char2\", \"MSE\", \"ISS\", \"MSE_centro\", \"ISS_centro\"]],\n",
    "#                                                                    combinacoes30[\"resposta\"], test_size=0.3, random_state=0)"
   ]
  },
  {
   "cell_type": "code",
   "execution_count": 9,
   "metadata": {
    "collapsed": false
   },
   "outputs": [],
   "source": [
    "X_train, X_test, y_train, y_test = train_test_split(combinacoes_equilibradas[[\"MSE\", \"ISS\", \"MSE_centro\", \"ISS_centro\",\\\n",
    "                                                                  \"MSE_canny\",\"ISS_canny\",\"MSE_canny_centro\",\"ISS_canny_centro\",\\\n",
    "                                                                  \"MSE_skeleton\",\"ISS_skeleton\",\"MSE_skeleton_centro\",\"ISS_skeleton_centro\"]],\n",
    "                                                                    combinacoes_equilibradas[\"resposta\"], test_size=0.3, random_state=0)"
   ]
  },
  {
   "cell_type": "markdown",
   "metadata": {},
   "source": [
    "## SVM"
   ]
  },
  {
   "cell_type": "code",
   "execution_count": 10,
   "metadata": {
    "collapsed": false
   },
   "outputs": [
    {
     "name": "stdout",
     "output_type": "stream",
     "text": [
      "CPU times: user 0 ns, sys: 0 ns, total: 0 ns\n",
      "Wall time: 6.68 µs\n"
     ]
    }
   ],
   "source": [
    "%%time\n",
    "#from sklearn.svm import SVC\n",
    "#clf = SVC() # kernel = 'poly', degree = 2, max_iter = 100000\n",
    "\n",
    "#SVMparams = { 'kernel' : ('linear', 'poly', 'rbf')} #, 'sigmoid')}\n",
    "\n",
    "#svr = SVC()\n",
    "#clf = GridSearchCV(svr, SVMparams)\n",
    "\n",
    "#clf.fit(X_train, y_train)\n",
    "#print( \"Score: {0}\".format(clf.score(X_test, y_test)) )\n",
    "#print( \"Best parameters: \" + clf.best_params_ )"
   ]
  },
  {
   "cell_type": "markdown",
   "metadata": {},
   "source": [
    "## Decision Tree"
   ]
  },
  {
   "cell_type": "code",
   "execution_count": 11,
   "metadata": {
    "collapsed": false,
    "scrolled": true
   },
   "outputs": [
    {
     "name": "stdout",
     "output_type": "stream",
     "text": [
      "Score: 0.7288888888888889\n",
      "Best parameters: {'criterion': 'gini', 'min_samples_leaf': 40, 'min_samples_split': 40}\n",
      "CPU times: user 16.9 s, sys: 40 ms, total: 16.9 s\n",
      "Wall time: 17.1 s\n"
     ]
    }
   ],
   "source": [
    "%%time\n",
    "from sklearn import tree\n",
    "\n",
    "DTparams = { 'criterion' : ('gini', 'entropy'),\n",
    "           'min_samples_split' : (2, 10, 40),\n",
    "           'min_samples_leaf' : (1, 3, 7, 40)}\n",
    "\n",
    "svr = tree.DecisionTreeClassifier()\n",
    "clf1 = GridSearchCV(svr, DTparams) #criterion = \"gini\", min_samples_split = 80, min_samples_leaf = 3\n",
    "\n",
    "clf1.fit( X = X_train, y = y_train )\n",
    "print( \"Score: {0}\".format(clf1.score(X_test, y_test)) )\n",
    "print( \"Best parameters: \" + str(clf1.best_params_) )"
   ]
  },
  {
   "cell_type": "markdown",
   "metadata": {},
   "source": [
    "# Random Forest"
   ]
  },
  {
   "cell_type": "code",
   "execution_count": 13,
   "metadata": {
    "collapsed": true
   },
   "outputs": [],
   "source": [
    "from sklearn.ensemble import RandomForestClassifier\n",
    "clfRF_balanced = RandomForestClassifier()"
   ]
  },
  {
   "cell_type": "code",
   "execution_count": 14,
   "metadata": {
    "collapsed": false
   },
   "outputs": [
    {
     "name": "stdout",
     "output_type": "stream",
     "text": [
      "Score: 0.7485470085470085\n",
      "Best parameters: {'criterion': 'gini', 'min_samples_leaf': 10, 'min_samples_split': 10, 'n_estimators': 10}\n",
      "CPU times: user 1min 24s, sys: 928 ms, total: 1min 24s\n",
      "Wall time: 1min 25s\n"
     ]
    }
   ],
   "source": [
    "%%time\n",
    "\n",
    "RFparams = {'n_estimators' : (10, 2, 3, 5, 7),\n",
    "           'criterion' : ('gini', 'entropy'),\n",
    "           'min_samples_split' : (2, 10, 40),\n",
    "           'min_samples_leaf' : (1, 5, 10, 40)}\n",
    "\n",
    "svr = RandomForestClassifier()\n",
    "clfRF_balanced = GridSearchCV(svr, RFparams)\n",
    "clfRF_balanced.fit( X = X_train, y = y_train )\n",
    "print( \"Score: {0}\".format(clfRF_balanced.score(X_test, y_test)) )\n",
    "print( \"Best parameters: \" + str(clfRF_balanced.best_params_) )"
   ]
  },
  {
   "cell_type": "code",
   "execution_count": 15,
   "metadata": {
    "collapsed": false
   },
   "outputs": [
    {
     "name": "stdout",
     "output_type": "stream",
     "text": [
      "Score: 0.7516239316239316\n",
      "CPU times: user 540 ms, sys: 8 ms, total: 548 ms\n",
      "Wall time: 547 ms\n"
     ]
    }
   ],
   "source": [
    "%%time\n",
    "\n",
    "from sklearn.ensemble import RandomForestClassifier\n",
    "clfRF_balanced = RandomForestClassifier(criterion = 'entropy', n_estimators=10, min_samples_leaf=40,\n",
    "                                       min_samples_split=5)\n",
    "clfRF_balanced.fit( X = X_train, y = y_train )\n",
    "print( \"Score: {0}\".format(clfRF_balanced.score(X_test, y_test)) )"
   ]
  },
  {
   "cell_type": "markdown",
   "metadata": {},
   "source": [
    "## Logistic Regression"
   ]
  },
  {
   "cell_type": "code",
   "execution_count": 16,
   "metadata": {
    "collapsed": false
   },
   "outputs": [
    {
     "name": "stderr",
     "output_type": "stream",
     "text": [
      "/home/ricardo/envs/facerecog/lib/python3.5/site-packages/scipy/optimize/linesearch.py:414: LineSearchWarning: The line search algorithm did not converge\n",
      "  warn('The line search algorithm did not converge', LineSearchWarning)\n",
      "/home/ricardo/envs/facerecog/lib/python3.5/site-packages/scipy/optimize/linesearch.py:285: LineSearchWarning: The line search algorithm did not converge\n",
      "  warn('The line search algorithm did not converge', LineSearchWarning)\n",
      "/home/ricardo/envs/facerecog/lib/python3.5/site-packages/sklearn/utils/optimize.py:195: UserWarning: Line Search failed\n",
      "  warnings.warn('Line Search failed')\n",
      "/home/ricardo/envs/facerecog/lib/python3.5/site-packages/scipy/optimize/linesearch.py:414: LineSearchWarning: The line search algorithm did not converge\n",
      "  warn('The line search algorithm did not converge', LineSearchWarning)\n",
      "/home/ricardo/envs/facerecog/lib/python3.5/site-packages/scipy/optimize/linesearch.py:285: LineSearchWarning: The line search algorithm did not converge\n",
      "  warn('The line search algorithm did not converge', LineSearchWarning)\n",
      "/home/ricardo/envs/facerecog/lib/python3.5/site-packages/sklearn/utils/optimize.py:195: UserWarning: Line Search failed\n",
      "  warnings.warn('Line Search failed')\n",
      "/home/ricardo/envs/facerecog/lib/python3.5/site-packages/scipy/optimize/linesearch.py:414: LineSearchWarning: The line search algorithm did not converge\n",
      "  warn('The line search algorithm did not converge', LineSearchWarning)\n",
      "/home/ricardo/envs/facerecog/lib/python3.5/site-packages/scipy/optimize/linesearch.py:285: LineSearchWarning: The line search algorithm did not converge\n",
      "  warn('The line search algorithm did not converge', LineSearchWarning)\n",
      "/home/ricardo/envs/facerecog/lib/python3.5/site-packages/sklearn/utils/optimize.py:203: ConvergenceWarning: newton-cg failed to converge. Increase the number of iterations.\n",
      "  \"number of iterations.\", ConvergenceWarning)\n",
      "/home/ricardo/envs/facerecog/lib/python3.5/site-packages/sklearn/linear_model/sag.py:286: ConvergenceWarning: The max_iter was reached which means the coef_ did not converge\n",
      "  \"the coef_ did not converge\", ConvergenceWarning)\n",
      "/home/ricardo/envs/facerecog/lib/python3.5/site-packages/sklearn/linear_model/sag.py:286: ConvergenceWarning: The max_iter was reached which means the coef_ did not converge\n",
      "  \"the coef_ did not converge\", ConvergenceWarning)\n",
      "/home/ricardo/envs/facerecog/lib/python3.5/site-packages/sklearn/linear_model/sag.py:286: ConvergenceWarning: The max_iter was reached which means the coef_ did not converge\n",
      "  \"the coef_ did not converge\", ConvergenceWarning)\n",
      "/home/ricardo/envs/facerecog/lib/python3.5/site-packages/scipy/optimize/linesearch.py:414: LineSearchWarning: The line search algorithm did not converge\n",
      "  warn('The line search algorithm did not converge', LineSearchWarning)\n",
      "/home/ricardo/envs/facerecog/lib/python3.5/site-packages/scipy/optimize/linesearch.py:285: LineSearchWarning: The line search algorithm did not converge\n",
      "  warn('The line search algorithm did not converge', LineSearchWarning)\n"
     ]
    },
    {
     "name": "stdout",
     "output_type": "stream",
     "text": [
      "Score: 0.7367521367521368\n",
      "Best parameters: {'solver': 'newton-cg'}\n",
      "CPU times: user 16.3 s, sys: 31.4 s, total: 47.6 s\n",
      "Wall time: 16 s\n"
     ]
    },
    {
     "name": "stderr",
     "output_type": "stream",
     "text": [
      "/home/ricardo/envs/facerecog/lib/python3.5/site-packages/sklearn/utils/optimize.py:195: UserWarning: Line Search failed\n",
      "  warnings.warn('Line Search failed')\n"
     ]
    }
   ],
   "source": [
    "%%time\n",
    "from sklearn.linear_model import LogisticRegression\n",
    "\n",
    "LRparams = {'solver' : ('newton-cg', 'lbfgs', 'liblinear', 'sag')}\n",
    "\n",
    "svr = LogisticRegression()\n",
    "clfLR = GridSearchCV(svr, LRparams)\n",
    "clfLR.fit( X = X_train, y = y_train )\n",
    "print( \"Score: {0}\".format(clfLR.score(X_test, y_test)) )\n",
    "print( \"Best parameters: \" + str(clfLR.best_params_) )"
   ]
  },
  {
   "cell_type": "markdown",
   "metadata": {},
   "source": [
    "# Multi-layer Perceptron classifier"
   ]
  },
  {
   "cell_type": "code",
   "execution_count": 17,
   "metadata": {
    "collapsed": false
   },
   "outputs": [
    {
     "name": "stdout",
     "output_type": "stream",
     "text": [
      "Score: 0.7046153846153846\n",
      "Best parameters: <bound method BaseEstimator.get_params of MLPClassifier(activation='relu', alpha=0.0001, batch_size='auto', beta_1=0.9,\n",
      "       beta_2=0.999, early_stopping=False, epsilon=1e-08,\n",
      "       hidden_layer_sizes=(100,), learning_rate='constant',\n",
      "       learning_rate_init=0.001, max_iter=200, momentum=0.9,\n",
      "       nesterovs_momentum=True, power_t=0.5, random_state=None,\n",
      "       shuffle=True, solver='adam', tol=0.0001, validation_fraction=0.1,\n",
      "       verbose=False, warm_start=False)>\n",
      "CPU times: user 1.81 s, sys: 3.75 s, total: 5.56 s\n",
      "Wall time: 1.82 s\n"
     ]
    }
   ],
   "source": [
    "%%time\n",
    "from sklearn.neural_network import MLPClassifier\n",
    "\n",
    "MLPparams = {'hidden_layer_sizes':(100, 20, 50),\n",
    "            'activation' : ('identity', 'logistic', 'tanh', 'relu'),\n",
    "            'solver' : ('lbfgs', 'sgd', 'adam')}\n",
    "\n",
    "svr = MLPClassifier()\n",
    "clfMLP = GridSearchCV(svr, MLPparams)\n",
    "clfMLP = MLPClassifier()\n",
    "clfMLP.fit( X = X_train, y = y_train )\n",
    "print( \"Score: {0}\".format(clfMLP.score(X_test, y_test)) )\n",
    "print( \"Best parameters: \" + str(clfMLP.get_params) )"
   ]
  },
  {
   "cell_type": "markdown",
   "metadata": {},
   "source": [
    "# Tentativa com base de p = 50%"
   ]
  },
  {
   "cell_type": "code",
   "execution_count": 18,
   "metadata": {
    "collapsed": true
   },
   "outputs": [],
   "source": [
    "p = 50"
   ]
  },
  {
   "cell_type": "code",
   "execution_count": 19,
   "metadata": {
    "collapsed": false
   },
   "outputs": [],
   "source": [
    "combinacoes_equilibradas = pd.read_csv(\"../combinacoes\"+str(p)+\".txt\", header = 0, sep=\",\")"
   ]
  },
  {
   "cell_type": "code",
   "execution_count": 24,
   "metadata": {
    "collapsed": false
   },
   "outputs": [],
   "source": [
    "X_train, X_test, y_train, y_test = train_test_split(combinacoes_equilibradas[[\"MSE\", \"ISS\", \"MSE_centro\", \"ISS_centro\",\\\n",
    "                                                                  \"MSE_canny\",\"ISS_canny\",\"MSE_canny_centro\",\"ISS_canny_centro\",\\\n",
    "                                                                  \"MSE_skeleton\",\"ISS_skeleton\",\"MSE_skeleton_centro\",\"ISS_skeleton_centro\"]],\n",
    "                                                                    combinacoes_equilibradas[\"resposta\"], test_size=0.3, random_state=0)"
   ]
  },
  {
   "cell_type": "markdown",
   "metadata": {},
   "source": [
    "## SVM"
   ]
  },
  {
   "cell_type": "code",
   "execution_count": 25,
   "metadata": {
    "collapsed": false
   },
   "outputs": [
    {
     "name": "stdout",
     "output_type": "stream",
     "text": [
      "CPU times: user 0 ns, sys: 0 ns, total: 0 ns\n",
      "Wall time: 10 µs\n"
     ]
    }
   ],
   "source": [
    "%%time\n",
    "#from sklearn.svm import SVC\n",
    "#clf = SVC() # kernel = 'poly', degree = 2, max_iter = 100000\n",
    "\n",
    "#SVMparams = { 'kernel' : ('linear', 'poly', 'rbf')} #, 'sigmoid')}\n",
    "\n",
    "#svr = SVC()\n",
    "#clf = GridSearchCV(svr, SVMparams)\n",
    "\n",
    "#clf.fit(X_train, y_train)\n",
    "#print( \"Score: {0}\".format(clf.score(X_test, y_test)) )\n",
    "#print( \"Best parameters: \" + clf.best_params_ )"
   ]
  },
  {
   "cell_type": "markdown",
   "metadata": {},
   "source": [
    "## Decision Tree"
   ]
  },
  {
   "cell_type": "code",
   "execution_count": 26,
   "metadata": {
    "collapsed": false,
    "scrolled": true
   },
   "outputs": [
    {
     "name": "stdout",
     "output_type": "stream",
     "text": [
      "Score: 0.6381766381766382\n",
      "Best parameters: {'criterion': 'gini', 'min_samples_leaf': 40, 'min_samples_split': 10}\n",
      "CPU times: user 9.81 s, sys: 132 ms, total: 9.94 s\n",
      "Wall time: 9.95 s\n"
     ]
    }
   ],
   "source": [
    "%%time\n",
    "from sklearn import tree\n",
    "\n",
    "DTparams = { 'criterion' : ('gini', 'entropy'),\n",
    "           'min_samples_split' : (2, 10, 40),\n",
    "           'min_samples_leaf' : (1, 3, 7, 40)}\n",
    "\n",
    "svr = tree.DecisionTreeClassifier()\n",
    "clf1 = GridSearchCV(svr, DTparams) #criterion = \"gini\", min_samples_split = 80, min_samples_leaf = 3\n",
    "\n",
    "clf1.fit( X = X_train, y = y_train )\n",
    "print( \"Score: {0}\".format(clf1.score(X_test, y_test)) )\n",
    "print( \"Best parameters: \" + str(clf1.best_params_) )"
   ]
  },
  {
   "cell_type": "markdown",
   "metadata": {},
   "source": [
    "# Random Forest"
   ]
  },
  {
   "cell_type": "code",
   "execution_count": 28,
   "metadata": {
    "collapsed": true
   },
   "outputs": [],
   "source": [
    "from sklearn.ensemble import RandomForestClassifier\n",
    "clfRF_balanced = RandomForestClassifier()"
   ]
  },
  {
   "cell_type": "code",
   "execution_count": 29,
   "metadata": {
    "collapsed": false
   },
   "outputs": [
    {
     "name": "stdout",
     "output_type": "stream",
     "text": [
      "Score: 0.6717948717948717\n",
      "Best parameters: {'criterion': 'gini', 'min_samples_leaf': 5, 'min_samples_split': 40, 'n_estimators': 10}\n",
      "CPU times: user 50.8 s, sys: 972 ms, total: 51.8 s\n",
      "Wall time: 51.8 s\n"
     ]
    }
   ],
   "source": [
    "%%time\n",
    "\n",
    "RFparams = {'n_estimators' : (10, 2, 3, 5, 7),\n",
    "           'criterion' : ('gini', 'entropy'),\n",
    "           'min_samples_split' : (2, 10, 40),\n",
    "           'min_samples_leaf' : (1, 5, 10, 40)}\n",
    "\n",
    "svr = RandomForestClassifier()\n",
    "clfRF_balanced = GridSearchCV(svr, RFparams)\n",
    "clfRF_balanced.fit( X = X_train, y = y_train )\n",
    "print( \"Score: {0}\".format(clfRF_balanced.score(X_test, y_test)) )\n",
    "print( \"Best parameters: \" + str(clfRF_balanced.best_params_) )"
   ]
  },
  {
   "cell_type": "code",
   "execution_count": 33,
   "metadata": {
    "collapsed": false
   },
   "outputs": [
    {
     "name": "stdout",
     "output_type": "stream",
     "text": [
      "Score: 0.6715099715099715\n",
      "CPU times: user 596 ms, sys: 4 ms, total: 600 ms\n",
      "Wall time: 604 ms\n"
     ]
    }
   ],
   "source": [
    "%%time\n",
    "\n",
    "from sklearn.ensemble import RandomForestClassifier\n",
    "clfRF_balanced = RandomForestClassifier(criterion = 'gini', n_estimators=10, min_samples_leaf=5,\n",
    "                                       min_samples_split=40)\n",
    "clfRF_balanced.fit( X = X_train, y = y_train )\n",
    "print( \"Score: {0}\".format(clfRF_balanced.score(X_test, y_test)) )"
   ]
  },
  {
   "cell_type": "markdown",
   "metadata": {},
   "source": [
    "## Logistic Regression"
   ]
  },
  {
   "cell_type": "code",
   "execution_count": 31,
   "metadata": {
    "collapsed": false
   },
   "outputs": [
    {
     "name": "stderr",
     "output_type": "stream",
     "text": [
      "/home/ricardo/envs/facerecog/lib/python3.5/site-packages/scipy/optimize/linesearch.py:414: LineSearchWarning: The line search algorithm did not converge\n",
      "  warn('The line search algorithm did not converge', LineSearchWarning)\n",
      "/home/ricardo/envs/facerecog/lib/python3.5/site-packages/scipy/optimize/linesearch.py:285: LineSearchWarning: The line search algorithm did not converge\n",
      "  warn('The line search algorithm did not converge', LineSearchWarning)\n",
      "/home/ricardo/envs/facerecog/lib/python3.5/site-packages/scipy/optimize/linesearch.py:414: LineSearchWarning: The line search algorithm did not converge\n",
      "  warn('The line search algorithm did not converge', LineSearchWarning)\n",
      "/home/ricardo/envs/facerecog/lib/python3.5/site-packages/scipy/optimize/linesearch.py:285: LineSearchWarning: The line search algorithm did not converge\n",
      "  warn('The line search algorithm did not converge', LineSearchWarning)\n",
      "/home/ricardo/envs/facerecog/lib/python3.5/site-packages/scipy/optimize/linesearch.py:414: LineSearchWarning: The line search algorithm did not converge\n",
      "  warn('The line search algorithm did not converge', LineSearchWarning)\n",
      "/home/ricardo/envs/facerecog/lib/python3.5/site-packages/scipy/optimize/linesearch.py:285: LineSearchWarning: The line search algorithm did not converge\n",
      "  warn('The line search algorithm did not converge', LineSearchWarning)\n",
      "/home/ricardo/envs/facerecog/lib/python3.5/site-packages/sklearn/linear_model/sag.py:286: ConvergenceWarning: The max_iter was reached which means the coef_ did not converge\n",
      "  \"the coef_ did not converge\", ConvergenceWarning)\n",
      "/home/ricardo/envs/facerecog/lib/python3.5/site-packages/sklearn/linear_model/sag.py:286: ConvergenceWarning: The max_iter was reached which means the coef_ did not converge\n",
      "  \"the coef_ did not converge\", ConvergenceWarning)\n",
      "/home/ricardo/envs/facerecog/lib/python3.5/site-packages/sklearn/linear_model/sag.py:286: ConvergenceWarning: The max_iter was reached which means the coef_ did not converge\n",
      "  \"the coef_ did not converge\", ConvergenceWarning)\n",
      "/home/ricardo/envs/facerecog/lib/python3.5/site-packages/scipy/optimize/linesearch.py:414: LineSearchWarning: The line search algorithm did not converge\n",
      "  warn('The line search algorithm did not converge', LineSearchWarning)\n",
      "/home/ricardo/envs/facerecog/lib/python3.5/site-packages/scipy/optimize/linesearch.py:285: LineSearchWarning: The line search algorithm did not converge\n",
      "  warn('The line search algorithm did not converge', LineSearchWarning)\n"
     ]
    },
    {
     "name": "stdout",
     "output_type": "stream",
     "text": [
      "Score: 0.5911680911680912\n",
      "Best parameters: {'solver': 'newton-cg'}\n",
      "CPU times: user 7.78 s, sys: 15.1 s, total: 22.9 s\n",
      "Wall time: 6.94 s\n"
     ]
    }
   ],
   "source": [
    "%%time\n",
    "from sklearn.linear_model import LogisticRegression\n",
    "\n",
    "LRparams = {'solver' : ('newton-cg', 'lbfgs', 'liblinear', 'sag')}\n",
    "\n",
    "svr = LogisticRegression()\n",
    "clfLR = GridSearchCV(svr, LRparams)\n",
    "clfLR.fit( X = X_train, y = y_train )\n",
    "print( \"Score: {0}\".format(clfLR.score(X_test, y_test)) )\n",
    "print( \"Best parameters: \" + str(clfLR.best_params_) )"
   ]
  },
  {
   "cell_type": "markdown",
   "metadata": {},
   "source": [
    "# Multi-layer Perceptron classifier"
   ]
  },
  {
   "cell_type": "code",
   "execution_count": 32,
   "metadata": {
    "collapsed": false
   },
   "outputs": [
    {
     "name": "stdout",
     "output_type": "stream",
     "text": [
      "Score: 0.49173789173789173\n",
      "Best parameters: <bound method BaseEstimator.get_params of MLPClassifier(activation='relu', alpha=0.0001, batch_size='auto', beta_1=0.9,\n",
      "       beta_2=0.999, early_stopping=False, epsilon=1e-08,\n",
      "       hidden_layer_sizes=(100,), learning_rate='constant',\n",
      "       learning_rate_init=0.001, max_iter=200, momentum=0.9,\n",
      "       nesterovs_momentum=True, power_t=0.5, random_state=None,\n",
      "       shuffle=True, solver='adam', tol=0.0001, validation_fraction=0.1,\n",
      "       verbose=False, warm_start=False)>\n",
      "CPU times: user 620 ms, sys: 1.19 s, total: 1.81 s\n",
      "Wall time: 459 ms\n"
     ]
    }
   ],
   "source": [
    "%%time\n",
    "from sklearn.neural_network import MLPClassifier\n",
    "\n",
    "MLPparams = {'hidden_layer_sizes':(100, 20, 50),\n",
    "            'activation' : ('identity', 'logistic', 'tanh', 'relu'),\n",
    "            'solver' : ('lbfgs', 'sgd', 'adam')}\n",
    "\n",
    "svr = MLPClassifier()\n",
    "clfMLP = GridSearchCV(svr, MLPparams)\n",
    "clfMLP = MLPClassifier()\n",
    "clfMLP.fit( X = X_train, y = y_train )\n",
    "print( \"Score: {0}\".format(clfMLP.score(X_test, y_test)) )\n",
    "print( \"Best parameters: \" + str(clfMLP.get_params) )"
   ]
  },
  {
   "cell_type": "markdown",
   "metadata": {},
   "source": [
    "# Binarizando o melhor modelo"
   ]
  },
  {
   "cell_type": "code",
   "execution_count": 73,
   "metadata": {
    "collapsed": false
   },
   "outputs": [],
   "source": [
    "#imgA = skio.imread(\"../letras/caracter1.png\")\n",
    "#imgB = skio.imread(\"../letras/caracter15.png\")\n",
    "\n",
    "#mse, iss, mse_centro, iss_centro,\\\n",
    "#\t\t\tmse_canny, iss_canny, mse_canny_centro, iss_canny_centro,\\\n",
    "#\t\t\tmse_skeleton, iss_skeleton, mse_skeleton_centro, iss_skeleton_centro = extract_stats(imgA, imgB)\n",
    "        \n",
    "#print(clfRF_balanced.predict( [[mse, iss, mse_centro, iss_centro,\n",
    "#\t\t\tmse_canny, iss_canny, mse_canny_centro, iss_canny_centro,\n",
    "#\t\t\tmse_skeleton, iss_skeleton, mse_skeleton_centro, iss_skeleton_centro]]))"
   ]
  },
  {
   "cell_type": "code",
   "execution_count": 34,
   "metadata": {
    "collapsed": false,
    "scrolled": true
   },
   "outputs": [
    {
     "data": {
      "text/plain": [
       "['classifier_balanced.pkl']"
      ]
     },
     "execution_count": 34,
     "metadata": {},
     "output_type": "execute_result"
    }
   ],
   "source": [
    "joblib.dump(clfRF_balanced, 'classifier_balanced.pkl') "
   ]
  },
  {
   "cell_type": "code",
   "execution_count": null,
   "metadata": {
    "collapsed": true
   },
   "outputs": [],
   "source": []
  },
  {
   "cell_type": "code",
   "execution_count": null,
   "metadata": {
    "collapsed": true
   },
   "outputs": [],
   "source": []
  }
 ],
 "metadata": {
  "kernelspec": {
   "display_name": "Python 3",
   "language": "python",
   "name": "python3"
  },
  "language_info": {
   "codemirror_mode": {
    "name": "ipython",
    "version": 3
   },
   "file_extension": ".py",
   "mimetype": "text/x-python",
   "name": "python",
   "nbconvert_exporter": "python",
   "pygments_lexer": "ipython3",
   "version": "3.5.2"
  }
 },
 "nbformat": 4,
 "nbformat_minor": 1
}
