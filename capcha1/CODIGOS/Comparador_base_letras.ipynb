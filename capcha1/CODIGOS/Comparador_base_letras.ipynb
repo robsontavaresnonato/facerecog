{
 "cells": [
  {
   "cell_type": "code",
   "execution_count": 1,
   "metadata": {
    "collapsed": true
   },
   "outputs": [],
   "source": [
    "%matplotlib inline\n",
    "\"\"\" handling files support packages \"\"\"\n",
    "from glob import glob\n",
    "\n",
    "\"\"\" logic support packages \"\"\"\n",
    "import numpy as np\n",
    "import pytesseract\n",
    "import itertools\n",
    "import csv\n",
    "import pandas as pd\n",
    "\n",
    "\"\"\" plot support packages \"\"\"\n",
    "import matplotlib.pyplot as plt\n",
    "import matplotlib.gridspec as gridspec\n",
    "\n",
    "\"\"\" image trasformation packages \"\"\"\n",
    "from PIL import Image\n",
    "import skimage.io as skio\n",
    "from skimage.util import dtype_limits\n",
    "from skimage.morphology import label\n",
    "from skimage.measure import regionprops\n",
    "from skimage.filters import rank\n",
    "from skimage.measure import compare_ssim, compare_mse\n",
    "\n",
    "\"\"\" statistical data visualization packages\"\"\"\n",
    "import seaborn as sns\n",
    "\n",
    "\"\"\" seaborn configurations \"\"\"\n",
    "sns.set_style('white')\n",
    "sns.set_context('talk')\n",
    "plt.rcParams['figure.figsize'] = 20, 10"
   ]
  },
  {
   "cell_type": "code",
   "execution_count": 2,
   "metadata": {
    "collapsed": false
   },
   "outputs": [],
   "source": [
    "from funcoes import checar_combinacoes, save_combinations, ler_letras, compare_images"
   ]
  },
  {
   "cell_type": "markdown",
   "metadata": {},
   "source": [
    "# Gerar base de dados comparativa entre letras\n",
    "\n",
    "Esta base deve ter os seguintes campos.\n",
    "\n",
    "| resposta | char1           | char2              | MSE  | ISS | MSE_centro | ISS_centro |\n",
    "|:------:|:-----------------:|:------------------:|:----:|:-----:|:---:|:---:|\n",
    "|    0    | character234.Png  | character121.Png   | 1456 | 0.556 | bla | bla |\n",
    "|\t 1   | character411.Png  | character121.Png   | 1200 | 0.723 | bla | bla |\n",
    "|\t 0   | character234.Png  | character121.Png   | 1456 | 0.556 | bla | bla |\n",
    "|\t 0   | character234.Png  | character121.Png   | 1456 | 0.556 | bla | bla |\n",
    "\n",
    "Nesta base, $p$ das linhas devem ser de mesmos caracteres e MESMA CAIXA (maiuscula ou minusc). Se a linha tem os mesmos caracteres ainda que em posições e formatos diferentes\n",
    "a variável resposta vai receber o VALOR 1. Caso sejam caracteres diferentes vai receber 0.\n",
    "Linhas com letra q minutos e Q maiusculo vão receber zero!\n",
    "\n",
    "Fizemos um acréscimo onde teremos a adição das colunas abaixo:\n",
    "\n",
    "| MSE_canny | ISS_canny| MSE_canny_centro| ISS_canny_centro| MSE_skeleton | ISS_skeleton | ISS_centro | MSE_skeleton_centro | ISS_skeleton_centro|\n",
    "|:------:|:-----------------:|:------------------:|:----:|:-----:|:---:|:---:|:---:|:---:|\n",
    "|    1456   | 1456  | 1456   | bla | bla | bla | bla | bla | bla |\n",
    "|\t 1200   |1200 | 0.723 | bla | bla | bla | bla | bla | bla |\n",
    "|\t 1456   | 1456 | 0.556 | bla | bla | bla | bla | bla | bla |\n",
    "|\t 1456   | 1456 | 0.556 | bla | bla | bla | bla | bla | bla |\n"
   ]
  },
  {
   "cell_type": "code",
   "execution_count": 3,
   "metadata": {
    "collapsed": false
   },
   "outputs": [],
   "source": [
    "letras, letters_dict = ler_letras(\"../letras.csv\")\n",
    "# retorna a permutação dois a dois da lista de arquivos de letras\n",
    "letras_permutadas = list(itertools.combinations(letras, 2))"
   ]
  },
  {
   "cell_type": "code",
   "execution_count": 4,
   "metadata": {
    "collapsed": false
   },
   "outputs": [
    {
     "name": "stdout",
     "output_type": "stream",
     "text": [
      "Temos 5849.0 conjuntos iguais e 252991.0 conjuntos com rótulos diferentes.\n",
      "A porcentagem atual é de: 0.022596971101838975\n"
     ]
    }
   ],
   "source": [
    "iguais, diferentes = checar_combinacoes(letras_permutadas, letters_dict)\n",
    "print( \"Temos {0} conjuntos iguais e {1} conjuntos com rótulos diferentes.\".format(iguais,diferentes))\n",
    "print( \"A porcentagem atual é de: {0}\".format( iguais/(iguais+diferentes) ))"
   ]
  },
  {
   "cell_type": "markdown",
   "metadata": {},
   "source": [
    "# Garatindo p% para cada classe"
   ]
  },
  {
   "cell_type": "code",
   "execution_count": 5,
   "metadata": {
    "collapsed": true
   },
   "outputs": [],
   "source": [
    "p = 30 # preencher com um valor inteiro entre 0 e 100\n",
    "# 0 não irá realizar balanceamento"
   ]
  },
  {
   "cell_type": "code",
   "execution_count": 6,
   "metadata": {
    "collapsed": false
   },
   "outputs": [
    {
     "name": "stdout",
     "output_type": "stream",
     "text": [
      "Para garantir os 30% precisamos diminuir a quantidade de conjuntos, com rótulos diferentes, em 239343\n"
     ]
    }
   ],
   "source": [
    "if p > 0:\n",
    "    print( \"Para garantir os \" + str(p) + \"% precisamos diminuir a quantidade de conjuntos, \" + \\\n",
    "          \"com rótulos diferentes, em {0}\".format( round(diferentes - ((iguais / (p/100) )-iguais)) ))"
   ]
  },
  {
   "cell_type": "code",
   "execution_count": 7,
   "metadata": {
    "collapsed": true
   },
   "outputs": [],
   "source": [
    "if p > 0:\n",
    "    k = round(diferentes - ((iguais / (p/100))-iguais))\n",
    "    l = []\n",
    "    for i, permuta in enumerate(letras_permutadas):\n",
    "        if k <= 0:\n",
    "            break\n",
    "        if (letters_dict[permuta[0]]['rotulo'] != letters_dict[permuta[1]]['rotulo']):\n",
    "            l.append(i)\n",
    "            k = k - 1\n",
    "    for index in sorted(l, reverse = True):\n",
    "        del letras_permutadas[index]"
   ]
  },
  {
   "cell_type": "code",
   "execution_count": 8,
   "metadata": {
    "collapsed": false
   },
   "outputs": [
    {
     "name": "stdout",
     "output_type": "stream",
     "text": [
      "Temos 5849.0 conjuntos iguais e 13648.0 conjuntos com rótulos diferentes. Total = 19497.0\n",
      "A porcentagem atual é de: 30.0%\n"
     ]
    }
   ],
   "source": [
    "if p > 0:\n",
    "    iguais, diferentes = checar_combinacoes(letras_permutadas, letters_dict)\n",
    "    print( \"Temos {0} conjuntos iguais e {1} conjuntos com rótulos diferentes. Total = {2}\".format(\\\n",
    "                                                            iguais,diferentes, iguais + diferentes))\n",
    "    print( \"A porcentagem atual é de: {0}%\".format( round(iguais/(iguais+diferentes), 2)*100 ))"
   ]
  },
  {
   "cell_type": "markdown",
   "metadata": {},
   "source": [
    "## Gerando o arquivo de combinações"
   ]
  },
  {
   "cell_type": "code",
   "execution_count": 9,
   "metadata": {
    "collapsed": false
   },
   "outputs": [],
   "source": [
    "%%capture\n",
    "if p > 0:\n",
    "    arquivo = \"../combinacoes\" + str(p) + \".txt\"\n",
    "else:\n",
    "    arquivo = \"../combinacoes.txt\"\n",
    "save_combinations(letras_permutadas, letters_dict, arquivo = arquivo)"
   ]
  },
  {
   "cell_type": "markdown",
   "metadata": {},
   "source": [
    "## Análises da base"
   ]
  },
  {
   "cell_type": "code",
   "execution_count": 10,
   "metadata": {
    "collapsed": true
   },
   "outputs": [],
   "source": [
    "#combinacoes = pd.read_csv(\"../combinacoes.txt\")"
   ]
  },
  {
   "cell_type": "code",
   "execution_count": 11,
   "metadata": {
    "collapsed": false
   },
   "outputs": [],
   "source": [
    "#combinacoes[combinacoes.resposta == 1].mean()"
   ]
  },
  {
   "cell_type": "code",
   "execution_count": 12,
   "metadata": {
    "collapsed": false
   },
   "outputs": [],
   "source": [
    "#combinacoes[combinacoes.resposta == 0].mean()"
   ]
  },
  {
   "cell_type": "code",
   "execution_count": null,
   "metadata": {
    "collapsed": true
   },
   "outputs": [],
   "source": []
  }
 ],
 "metadata": {
  "kernelspec": {
   "display_name": "Python 3",
   "language": "python",
   "name": "python3"
  },
  "language_info": {
   "codemirror_mode": {
    "name": "ipython",
    "version": 3
   },
   "file_extension": ".py",
   "mimetype": "text/x-python",
   "name": "python",
   "nbconvert_exporter": "python",
   "pygments_lexer": "ipython3",
   "version": "3.5.2"
  }
 },
 "nbformat": 4,
 "nbformat_minor": 1
}
