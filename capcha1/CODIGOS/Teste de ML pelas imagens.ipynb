{
 "cells": [
  {
   "cell_type": "code",
   "execution_count": 50,
   "metadata": {
    "collapsed": true
   },
   "outputs": [],
   "source": [
    "%matplotlib inline\n",
    "\"\"\" handling files support packages \"\"\"\n",
    "from glob import glob\n",
    "\n",
    "\"\"\" logic support packages \"\"\"\n",
    "import numpy as np\n",
    "import pandas as pd\n",
    "\n",
    "\"\"\" plot support packages \"\"\"\n",
    "import matplotlib.pyplot as plt\n",
    "import matplotlib.gridspec as gridspec\n",
    "from IPython.display import Image\n",
    "#import pydotplus\n",
    "\n",
    "\"\"\" image trasformation packages \"\"\"\n",
    "from PIL import Image\n",
    "import skimage.io as skio\n",
    "\n",
    "\"\"\" statistical data visualization packages\"\"\"\n",
    "import seaborn as sns\n",
    "\n",
    "\"\"\" machine learning functions \"\"\"\n",
    "from sklearn.svm import SVC\n",
    "from sklearn.model_selection import train_test_split\n",
    "from sklearn import preprocessing\n",
    "from sklearn.externals import joblib\n",
    "from sklearn.model_selection import GridSearchCV\n",
    "\n",
    "\"\"\" seaborn configurations \"\"\"\n",
    "sns.set_style('white')\n",
    "sns.set_context('talk')\n",
    "plt.rcParams['figure.figsize'] = 20, 10"
   ]
  },
  {
   "cell_type": "code",
   "execution_count": 51,
   "metadata": {
    "collapsed": false
   },
   "outputs": [
    {
     "data": {
      "text/plain": [
       "['path', 'rotulo', 'caixa_alta_baixa']"
      ]
     },
     "execution_count": 51,
     "metadata": {},
     "output_type": "execute_result"
    }
   ],
   "source": [
    "data = pd.read_csv(\"../letras.csv\", header = 0, sep=\",\")\n",
    "list(data.columns.values)"
   ]
  },
  {
   "cell_type": "code",
   "execution_count": 52,
   "metadata": {
    "collapsed": false
   },
   "outputs": [
    {
     "name": "stdout",
     "output_type": "stream",
     "text": [
      "Temos 35 classes: ['1', '2', '3', '4', '5', '6', '7', '8', '9', 'a', 'b', 'c', 'd', 'e', 'f', 'g', 'h', 'i', 'j', 'k', 'l', 'm', 'n', 'o', 'p', 'q', 'r', 's', 't', 'u', 'v', 'w', 'x', 'y', 'z']\n"
     ]
    }
   ],
   "source": [
    "print(\"Temos {0} classes: {1}\".format(len(list(set(data.rotulo))), sorted(list(set(data.rotulo)))))"
   ]
  },
  {
   "cell_type": "code",
   "execution_count": 53,
   "metadata": {
    "collapsed": false
   },
   "outputs": [],
   "source": [
    "feat_transform = 'lbp' # ['pca', 'lbp']\n",
    "\n",
    "if feat_transform == 'lbp': dim2 = True\n",
    "else: dim2 = False\n",
    "\n",
    "if dim2:\n",
    "    # mantém as imagens como matriz\n",
    "    X = np.array([np.array(Image.open(fname)) for fname in data['path']])\n",
    "    y = np.array(data['rotulo'])\n",
    "    \n",
    "else:\n",
    "    # torna as imagens e vetores unidimensionais\n",
    "    X = np.array([np.array(Image.open(fname).getdata()) for fname in data['path']])\n",
    "    y = np.array(data['rotulo'])"
   ]
  },
  {
   "cell_type": "markdown",
   "metadata": {},
   "source": [
    "# Unsupervised Learnind: Dimensionality Reduction"
   ]
  },
  {
   "cell_type": "code",
   "execution_count": 54,
   "metadata": {
    "collapsed": false
   },
   "outputs": [
    {
     "name": "stdout",
     "output_type": "stream",
     "text": [
      "temos 1140 imagens cada uma com 50x35 dimensoes\n"
     ]
    }
   ],
   "source": [
    "if dim2:\n",
    "    print(\"temos {0} imagens cada uma com {1}x{2} dimensoes\".format(len(X), X[0].shape[0], X[0].shape[1]))\n",
    "else:\n",
    "    print(\"temos {0} imagens cada uma com {1} dimensoes\".format(len(X), len(X[0])))"
   ]
  },
  {
   "cell_type": "markdown",
   "metadata": {},
   "source": [
    "# Divisao da base em treino e teste e aplicacao de algoritmos de aprendizado"
   ]
  },
  {
   "cell_type": "code",
   "execution_count": 55,
   "metadata": {
    "collapsed": false
   },
   "outputs": [],
   "source": [
    "if feat_transform == 'pca':\n",
    "    \n",
    "    X_train, X_test, y_train, y_test = train_test_split(X, y, test_size=0.3, random_state=0)\n",
    "    \n",
    "    from sklearn.decomposition import PCA\n",
    "    n_components = 1000\n",
    "    pca = PCA(n_components=n_components, svd_solver='randomized',\n",
    "          whiten=True).fit(X_train)\n",
    "    X_train = pca.transform(X_train)\n",
    "    X_test = pca.transform(X_test)\n",
    "    joblib.dump(pca, 'pca_image.pkl')\n",
    "    \n",
    "if feat_transform == 'lbp':\n",
    "    from skimage.feature import local_binary_pattern\n",
    "    # settings for LBP\n",
    "    METHOD = 'uniform'\n",
    "    radius = 3\n",
    "    n_points = 8 * radius\n",
    "    \n",
    "    X_lbp = [local_binary_pattern(img, n_points, radius, METHOD) for img in X]\n",
    "    X = []\n",
    "    for img in X_lbp:\n",
    "        X.append([item for sublist in img.tolist() for item in sublist])\n",
    "        \n",
    "    X_train, X_test, y_train, y_test = train_test_split(X, y, test_size=0.3, random_state=0)"
   ]
  },
  {
   "cell_type": "markdown",
   "metadata": {},
   "source": [
    "# Treinamento de classificadores"
   ]
  },
  {
   "cell_type": "code",
   "execution_count": 56,
   "metadata": {
    "collapsed": false
   },
   "outputs": [
    {
     "name": "stdout",
     "output_type": "stream",
     "text": [
      "CPU times: user 0 ns, sys: 0 ns, total: 0 ns\n",
      "Wall time: 21.7 µs\n"
     ]
    }
   ],
   "source": [
    "%%time\n",
    "if False:\n",
    "    from sklearn.neural_network import MLPClassifier\n",
    "\n",
    "    MLPparams = {'hidden_layer_sizes':(100, 20, 50),\n",
    "                 'activation' : ('identity', 'logistic', 'tanh', 'relu'),\n",
    "                 'solver' : ('lbfgs', 'sgd', 'adam'),\n",
    "                 'learning_rate': ('constant', 'invscaling', 'adaptative')\n",
    "                }\n",
    "\n",
    "    svr = MLPClassifier()\n",
    "    clfMLP = GridSearchCV(svr, MLPparams)\n",
    "    clfMLP = MLPClassifier()\n",
    "    clfMLP.fit( X = X_train, y = y_train )\n",
    "    print( \"Score: {0}\".format(clfMLP.score(X_test, y_test)) )\n",
    "    print( \"Best parameters: \" + str(clfMLP.get_params) )"
   ]
  },
  {
   "cell_type": "code",
   "execution_count": 57,
   "metadata": {
    "collapsed": false
   },
   "outputs": [
    {
     "name": "stdout",
     "output_type": "stream",
     "text": [
      "Score: 0.4239766081871345\n",
      "Best parameters: {'criterion': 'entropy', 'min_samples_leaf': 1, 'n_estimators': 900, 'min_samples_split': 2}\n",
      "CPU times: user 1h 54min 35s, sys: 1min 23s, total: 1h 55min 58s\n",
      "Wall time: 1h 59min 29s\n"
     ]
    }
   ],
   "source": [
    "%%time\n",
    "if True:\n",
    "    from sklearn.ensemble import RandomForestClassifier\n",
    "    clfRF_balanced = RandomForestClassifier()\n",
    "\n",
    "\n",
    "    RFparams = {'n_estimators' : (1000, 800, 900, 700, 600),\n",
    "               'criterion' : ('gini', 'entropy'),\n",
    "               'min_samples_split' : (2, 10, 40),\n",
    "               'min_samples_leaf' : (1, 5, 10, 40)}\n",
    "\n",
    "    svr = RandomForestClassifier()\n",
    "    clfRF_balanced = GridSearchCV(svr, RFparams)\n",
    "    clfRF_balanced.fit( X = X_train, y = y_train )\n",
    "    print( \"Score: {0}\".format(clfRF_balanced.score(X_test, y_test)) )\n",
    "    print( \"Best parameters: \" + str(clfRF_balanced.best_params_) )"
   ]
  },
  {
   "cell_type": "code",
   "execution_count": 58,
   "metadata": {
    "collapsed": false
   },
   "outputs": [
    {
     "name": "stdout",
     "output_type": "stream",
     "text": [
      "Score: 0.3304093567251462\n",
      "Best parameters: {'C': 1, 'degree': 2, 'kernel': 'poly'}\n",
      "CPU times: user 7min 43s, sys: 11 s, total: 7min 54s\n",
      "Wall time: 7min 56s\n"
     ]
    }
   ],
   "source": [
    "%%time\n",
    "if True:\n",
    "    from sklearn.svm import SVC\n",
    "    clf = SVC() # kernel = 'poly', degree = 2, max_iter = 100000\n",
    "\n",
    "    SVMparams = [{'kernel': ['rbf'], 'gamma': [1e-3, 1e-4],\n",
    "                         'C': [1, 10, 100, 1000]},\n",
    "                {'kernel': ['linear'], 'C': [1, 10, 100, 1000]},\n",
    "                {'kernel' : ['poly'], 'degree': [1, 2, 3],\n",
    "                         'C': [1, 10, 100, 1000]}]\n",
    "\n",
    "    svr = SVC()\n",
    "    clf = GridSearchCV(svr, SVMparams)\n",
    "\n",
    "    clf.fit(X_train, y_train)\n",
    "    print( \"Score: {0}\".format(clf.score(X_test, y_test)) )\n",
    "    print( \"Best parameters: \" + str(clf.best_params_) )"
   ]
  },
  {
   "cell_type": "code",
   "execution_count": null,
   "metadata": {
    "collapsed": true
   },
   "outputs": [],
   "source": [
    "#import tensorflow as tf\n",
    "\n",
    "#image_size = 35 * 50\n",
    "#n_classes = len(list(set(data.rotulo)))\n",
    "#x = tf.placeholder(tf.float32, [None, image_size])\n",
    "#W = tf.Variable(tf.zeros([image_size, n_classes]))\n",
    "#b = tf.Variable(tf.zeros([n_classes]))"
   ]
  },
  {
   "cell_type": "code",
   "execution_count": null,
   "metadata": {
    "collapsed": false
   },
   "outputs": [],
   "source": [
    "#imgs = skio.imread_collection(list(data['path']))\n",
    "#imgA = crop_char(imgs[0], 0)"
   ]
  },
  {
   "cell_type": "code",
   "execution_count": null,
   "metadata": {
    "collapsed": false
   },
   "outputs": [],
   "source": [
    "#print(clf.predict([item for sublist in imgA.tolist() for item in sublist]))"
   ]
  },
  {
   "cell_type": "code",
   "execution_count": 59,
   "metadata": {
    "collapsed": false
   },
   "outputs": [
    {
     "name": "stdout",
     "output_type": "stream",
     "text": [
      "CPU times: user 2.78 s, sys: 1.15 s, total: 3.93 s\n",
      "Wall time: 1min 43s\n"
     ]
    }
   ],
   "source": [
    "%%time\n",
    "save = True\n",
    "if save:    \n",
    "    joblib.dump(clfRF_balanced.best_estimator_, 'classifier_image.pkl')"
   ]
  },
  {
   "cell_type": "code",
   "execution_count": null,
   "metadata": {
    "collapsed": true
   },
   "outputs": [],
   "source": []
  }
 ],
 "metadata": {
  "kernelspec": {
   "display_name": "Python 3",
   "language": "python",
   "name": "python3"
  },
  "language_info": {
   "codemirror_mode": {
    "name": "ipython",
    "version": 3
   },
   "file_extension": ".py",
   "mimetype": "text/x-python",
   "name": "python",
   "nbconvert_exporter": "python",
   "pygments_lexer": "ipython3",
   "version": "3.5.2"
  }
 },
 "nbformat": 4,
 "nbformat_minor": 2
}
