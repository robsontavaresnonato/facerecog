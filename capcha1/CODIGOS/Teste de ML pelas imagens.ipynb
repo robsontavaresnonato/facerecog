{
 "cells": [
  {
   "cell_type": "code",
   "execution_count": 1,
   "metadata": {
    "collapsed": true
   },
   "outputs": [],
   "source": [
    "%matplotlib inline\n",
    "\"\"\" handling files support packages \"\"\"\n",
    "from glob import glob\n",
    "\n",
    "\"\"\" logic support packages \"\"\"\n",
    "import numpy as np\n",
    "import pandas as pd\n",
    "\n",
    "\"\"\" plot support packages \"\"\"\n",
    "import matplotlib.pyplot as plt\n",
    "import matplotlib.gridspec as gridspec\n",
    "from IPython.display import Image\n",
    "#import pydotplus\n",
    "\n",
    "\"\"\" image trasformation packages \"\"\"\n",
    "from PIL import Image\n",
    "import skimage.io as skio\n",
    "\n",
    "\"\"\" statistical data visualization packages\"\"\"\n",
    "import seaborn as sns\n",
    "\n",
    "\"\"\" machine learning functions \"\"\"\n",
    "from sklearn.svm import SVC\n",
    "from sklearn.model_selection import train_test_split\n",
    "from sklearn import preprocessing\n",
    "from sklearn.externals import joblib\n",
    "from sklearn.model_selection import GridSearchCV\n",
    "\n",
    "\"\"\" seaborn configurations \"\"\"\n",
    "sns.set_style('white')\n",
    "sns.set_context('talk')\n",
    "plt.rcParams['figure.figsize'] = 20, 10"
   ]
  },
  {
   "cell_type": "code",
   "execution_count": 2,
   "metadata": {
    "collapsed": true
   },
   "outputs": [],
   "source": [
    "from funcoes import *"
   ]
  },
  {
   "cell_type": "code",
   "execution_count": 3,
   "metadata": {
    "collapsed": false
   },
   "outputs": [],
   "source": [
    "#letras, letters_dict = ler_letras(\"../letras.csv\")"
   ]
  },
  {
   "cell_type": "code",
   "execution_count": 4,
   "metadata": {
    "collapsed": false
   },
   "outputs": [
    {
     "data": {
      "text/plain": [
       "['path', 'rotulo', 'caixa_alta_baixa']"
      ]
     },
     "execution_count": 4,
     "metadata": {},
     "output_type": "execute_result"
    }
   ],
   "source": [
    "data = pd.read_csv(\"../letras.csv\", header = 0, sep=\",\")\n",
    "list(data.columns.values)"
   ]
  },
  {
   "cell_type": "code",
   "execution_count": 5,
   "metadata": {
    "collapsed": false
   },
   "outputs": [],
   "source": [
    "#data['rotulo']"
   ]
  },
  {
   "cell_type": "code",
   "execution_count": 6,
   "metadata": {
    "collapsed": false
   },
   "outputs": [],
   "source": [
    "img_pixels = Image.open(data['path'][0])"
   ]
  },
  {
   "cell_type": "code",
   "execution_count": 7,
   "metadata": {
    "collapsed": false
   },
   "outputs": [],
   "source": [
    "#for i, file in enumerate(list(data['path'])):\n",
    "    #print(file)"
   ]
  },
  {
   "cell_type": "code",
   "execution_count": 8,
   "metadata": {
    "collapsed": false
   },
   "outputs": [],
   "source": [
    "X = []\n",
    "y = []\n",
    "\n",
    "for i, file in enumerate(list(data['path'])):\n",
    "    label = data['rotulo'][i]\n",
    "    img_pixels = list(Image.open(file).getdata())\n",
    "    X.append(img_pixels)\n",
    "    y.append(label)"
   ]
  },
  {
   "cell_type": "code",
   "execution_count": 9,
   "metadata": {
    "collapsed": true
   },
   "outputs": [],
   "source": [
    "#from sklearn import preprocessing\n",
    "\n",
    "#le = preprocessing.LabelEncoder()\n",
    "#le.fit(y)\n",
    "#ley = le.transform(y)"
   ]
  },
  {
   "cell_type": "markdown",
   "metadata": {},
   "source": [
    "# Unsupervised Learnind: Dimensionality Reduction"
   ]
  },
  {
   "cell_type": "code",
   "execution_count": 10,
   "metadata": {
    "collapsed": false
   },
   "outputs": [
    {
     "name": "stdout",
     "output_type": "stream",
     "text": [
      "temos 1140 imagens cada uma com 1750 dimensoes\n"
     ]
    }
   ],
   "source": [
    "print(\"temos {0} imagens cada uma com {1} dimensoes\".format(len(X), len(X[0])))"
   ]
  },
  {
   "cell_type": "code",
   "execution_count": 11,
   "metadata": {
    "collapsed": true
   },
   "outputs": [],
   "source": [
    "#from sklearn.manifold import Isomap"
   ]
  },
  {
   "cell_type": "code",
   "execution_count": 12,
   "metadata": {
    "collapsed": true
   },
   "outputs": [],
   "source": [
    "#iso = Isomap(n_components = 2)\n",
    "#data_projected = iso.fit_transform(X)"
   ]
  },
  {
   "cell_type": "code",
   "execution_count": 13,
   "metadata": {
    "collapsed": false
   },
   "outputs": [],
   "source": [
    "#data_projected.shape"
   ]
  },
  {
   "cell_type": "code",
   "execution_count": 14,
   "metadata": {
    "collapsed": false
   },
   "outputs": [],
   "source": [
    "#plt.scatter(data_projected[:, 0], data_projected[:, 1], c=ley,\n",
    "#            edgecolor='none', alpha=0.5, cmap=plt.cm.get_cmap('nipy_spectral'))\n",
    "#plt.colorbar(label='digita label', ticks=range(10))\n",
    "#plt.clim(-0.5, 9.5)"
   ]
  },
  {
   "cell_type": "markdown",
   "metadata": {},
   "source": [
    "A base relativa aos pixels esta muito confusa, as classes estao muito misturadas para os features (imagens)."
   ]
  },
  {
   "cell_type": "markdown",
   "metadata": {},
   "source": [
    "# Divisao da base em treino e teste e aplicacao de algoritmos de aprendizado"
   ]
  },
  {
   "cell_type": "code",
   "execution_count": 15,
   "metadata": {
    "collapsed": true
   },
   "outputs": [],
   "source": [
    "X_train, X_test, y_train, y_test = train_test_split(X, y, test_size=0.3, random_state=0)"
   ]
  },
  {
   "cell_type": "code",
   "execution_count": 16,
   "metadata": {
    "collapsed": false
   },
   "outputs": [
    {
     "name": "stdout",
     "output_type": "stream",
     "text": [
      "CPU times: user 0 ns, sys: 0 ns, total: 0 ns\n",
      "Wall time: 11 µs\n"
     ]
    }
   ],
   "source": [
    "%%time\n",
    "#from sklearn.neural_network import MLPClassifier\n",
    "\n",
    "#MLPparams = {'hidden_layer_sizes':(100, 20, 50),\n",
    "#             'activation' : ('identity', 'logistic', 'tanh', 'relu'),\n",
    "#             'solver' : ('lbfgs', 'sgd', 'adam'),\n",
    "#             'learning_rate': ('constant', 'invscaling', 'adaptative')\n",
    "#            }\n",
    "\n",
    "#svr = MLPClassifier(max_iter = 200000)\n",
    "#clfMLP = GridSearchCV(svr, MLPparams)\n",
    "#clfMLP = MLPClassifier()\n",
    "#clfMLP.fit( X = X_train, y = y_train )\n",
    "#print( \"Score: {0}\".format(clfMLP.score(X_test, y_test)) )\n",
    "#print( \"Best parameters: \" + str(clfMLP.get_params) )"
   ]
  },
  {
   "cell_type": "code",
   "execution_count": 17,
   "metadata": {
    "collapsed": false
   },
   "outputs": [
    {
     "name": "stderr",
     "output_type": "stream",
     "text": [
      "/home/ricardo/envs/facerecog/lib/python3.5/site-packages/sklearn/model_selection/_split.py:581: Warning: The least populated class in y has only 2 members, which is too few. The minimum number of groups for any class cannot be less than n_splits=3.\n",
      "  % (min_groups, self.n_splits)), Warning)\n"
     ]
    },
    {
     "name": "stdout",
     "output_type": "stream",
     "text": [
      "Score: 0.6608187134502924\n",
      "Best parameters: {'kernel': 'poly'}\n",
      "CPU times: user 1min 20s, sys: 964 ms, total: 1min 21s\n",
      "Wall time: 1min 22s\n"
     ]
    }
   ],
   "source": [
    "%%time\n",
    "from sklearn.svm import SVC\n",
    "clf = SVC() # kernel = 'poly', degree = 2, max_iter = 100000\n",
    "\n",
    "SVMparams = { 'kernel' : ('linear', 'poly', 'rbf', 'sigmoid')}\n",
    "\n",
    "svr = SVC()\n",
    "clf = GridSearchCV(svr, SVMparams)\n",
    "\n",
    "clf.fit(X_train, y_train)\n",
    "print( \"Score: {0}\".format(clf.score(X_test, y_test)) )\n",
    "print( \"Best parameters: \" + str(clf.best_params_) )"
   ]
  },
  {
   "cell_type": "code",
   "execution_count": 18,
   "metadata": {
    "collapsed": false
   },
   "outputs": [
    {
     "name": "stdout",
     "output_type": "stream",
     "text": [
      "CPU times: user 0 ns, sys: 0 ns, total: 0 ns\n",
      "Wall time: 12.4 µs\n"
     ]
    }
   ],
   "source": [
    "%%time\n",
    "#from sklearn.ensemble import RandomForestClassifier\n",
    "#clfRF_balanced = RandomForestClassifier()\n",
    "\n",
    "\n",
    "#RFparams = {'n_estimators' : (10, 2, 3, 5, 7),\n",
    "#           'criterion' : ('gini', 'entropy'),\n",
    "#           'min_samples_split' : (2, 10, 40),\n",
    "#           'min_samples_leaf' : (1, 5, 10, 40)}\n",
    "\n",
    "#svr = RandomForestClassifier()\n",
    "#clfRF_balanced = GridSearchCV(svr, RFparams)\n",
    "#clfRF_balanced.fit( X = X_train, y = y_train )\n",
    "#print( \"Score: {0}\".format(clfRF_balanced.score(X_test, y_test)) )\n",
    "#print( \"Best parameters: \" + str(clfRF_balanced.best_params_) )"
   ]
  },
  {
   "cell_type": "code",
   "execution_count": 23,
   "metadata": {
    "collapsed": false
   },
   "outputs": [
    {
     "name": "stdout",
     "output_type": "stream",
     "text": [
      "Score: 0.6608187134502924\n",
      "CPU times: user 8.31 s, sys: 72 ms, total: 8.38 s\n",
      "Wall time: 8.39 s\n"
     ]
    }
   ],
   "source": [
    "%%time\n",
    "from sklearn.svm import SVC\n",
    "clf = SVC(kernel = 'poly')\n",
    "\n",
    "clf.fit(X_train, y_train)\n",
    "print( \"Score: {0}\".format(clf.score(X_test, y_test)) )"
   ]
  },
  {
   "cell_type": "code",
   "execution_count": null,
   "metadata": {
    "collapsed": true
   },
   "outputs": [],
   "source": []
  },
  {
   "cell_type": "code",
   "execution_count": 24,
   "metadata": {
    "collapsed": false
   },
   "outputs": [],
   "source": [
    "#imgs = skio.imread_collection(list(data['path']))\n",
    "#imgA = crop_char(imgs[0], 0)"
   ]
  },
  {
   "cell_type": "code",
   "execution_count": 25,
   "metadata": {
    "collapsed": false
   },
   "outputs": [],
   "source": [
    "#print(clf.predict([item for sublist in imgA.tolist() for item in sublist]))"
   ]
  },
  {
   "cell_type": "code",
   "execution_count": 26,
   "metadata": {
    "collapsed": false
   },
   "outputs": [
    {
     "data": {
      "text/plain": [
       "['classifier_image.pkl']"
      ]
     },
     "execution_count": 26,
     "metadata": {},
     "output_type": "execute_result"
    }
   ],
   "source": [
    "joblib.dump(clf, 'classifier_image.pkl') "
   ]
  },
  {
   "cell_type": "code",
   "execution_count": null,
   "metadata": {
    "collapsed": true
   },
   "outputs": [],
   "source": []
  }
 ],
 "metadata": {
  "kernelspec": {
   "display_name": "Python 3",
   "language": "python",
   "name": "python3"
  },
  "language_info": {
   "codemirror_mode": {
    "name": "ipython",
    "version": 3
   },
   "file_extension": ".py",
   "mimetype": "text/x-python",
   "name": "python",
   "nbconvert_exporter": "python",
   "pygments_lexer": "ipython3",
   "version": "3.5.2"
  }
 },
 "nbformat": 4,
 "nbformat_minor": 2
}
