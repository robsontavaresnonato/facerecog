{
 "cells": [
  {
   "cell_type": "markdown",
   "metadata": {},
   "source": [
    "# Projeto facerecog"
   ]
  },
  {
   "cell_type": "code",
   "execution_count": 1,
   "metadata": {
    "collapsed": false
   },
   "outputs": [],
   "source": [
    "#pacotes = !pip freeze"
   ]
  },
  {
   "cell_type": "code",
   "execution_count": 2,
   "metadata": {
    "collapsed": false
   },
   "outputs": [],
   "source": [
    "#%%writefile requirements.txt\n",
    "\n",
    "# lista extensa do environment, depois filtro para os que foram utilizados realmente\n",
    "#ipython==5.1.0\n",
    "#jupyter==1.0.0\n",
    "#matplotlib==1.5.3\n",
    "#notebook==4.2.3\n",
    "#numpy==1.11.2\n",
    "#pandas==0.18.1\n",
    "#Pillow==3.4.1\n",
    "#pytesseract==0.1.6\n",
    "#scikit-image==0.12.3\n",
    "#scikit-learn-0.18\n",
    "#scipy==0.18.1\n",
    "#seaborn==0.7.1\n",
    "\n",
    "# the following must be installed separately\n",
    "# opencv==3.1.0\n",
    "# tesseract"
   ]
  },
  {
   "cell_type": "code",
   "execution_count": 3,
   "metadata": {
    "collapsed": true
   },
   "outputs": [],
   "source": [
    "# uncomment line below to install requirements (recommended to use a virtualenv)\n",
    "#!pip install -r requirements.txt"
   ]
  },
  {
   "cell_type": "markdown",
   "metadata": {},
   "source": [
    "-----------------------\n",
    "\n",
    "# Importação de pacotes"
   ]
  },
  {
   "cell_type": "code",
   "execution_count": 4,
   "metadata": {
    "collapsed": false
   },
   "outputs": [],
   "source": [
    "%matplotlib inline\n",
    "\"\"\" handling files support packages \"\"\"\n",
    "from glob import glob\n",
    "\n",
    "\"\"\" logic support packages \"\"\"\n",
    "import numpy as np\n",
    "import pytesseract\n",
    "import itertools\n",
    "import csv\n",
    "import pandas as pd\n",
    "\n",
    "\"\"\" plot support packages \"\"\"\n",
    "import matplotlib.pyplot as plt\n",
    "import matplotlib.gridspec as gridspec\n",
    "\n",
    "\"\"\" image trasformation packages \"\"\"\n",
    "from PIL import Image\n",
    "import skimage.io as skio\n",
    "from skimage.util import dtype_limits\n",
    "from skimage.morphology import label\n",
    "from skimage.measure import regionprops\n",
    "from skimage.morphology import label, skeletonize\n",
    "from skimage.filters import rank\n",
    "from skimage import color\n",
    "from skimage import restoration\n",
    "from skimage import feature\n",
    "from skimage.measure import compare_ssim, compare_mse\n",
    "from sklearn.preprocessing import binarize\n",
    "\n",
    "\"\"\" statistical data visualization packages\"\"\"\n",
    "import seaborn as sns\n",
    "\n",
    "\"\"\" seaborn configurations \"\"\"\n",
    "sns.set_style('white')\n",
    "sns.set_context('talk')\n",
    "plt.rcParams['figure.figsize'] = 20, 10"
   ]
  },
  {
   "cell_type": "code",
   "execution_count": 5,
   "metadata": {
    "collapsed": false
   },
   "outputs": [],
   "source": [
    "from funcoes import apply_filter, mse, compare_images, load_image, save_image, plot_captchas, save_images, crop_char, feed_char_dict, ler_letras, checar_combinacoes, remove_small_blobs, run_tesseract"
   ]
  },
  {
   "cell_type": "markdown",
   "metadata": {},
   "source": [
    "----------------------------\n",
    "\n",
    "# Leitura das imagens iniciais funções de suporte"
   ]
  },
  {
   "cell_type": "code",
   "execution_count": 6,
   "metadata": {
    "collapsed": false,
    "scrolled": false
   },
   "outputs": [],
   "source": [
    "img_files = sorted(glob('../imagens/captcha*.png'))\n",
    "#print(img_files)\n",
    "imgs = skio.imread_collection(img_files)\n",
    "#print(imgs.files)"
   ]
  },
  {
   "cell_type": "code",
   "execution_count": 7,
   "metadata": {
    "collapsed": false,
    "scrolled": true
   },
   "outputs": [],
   "source": [
    "# Qual versão de filtro será usada? 1 ou 2?\n",
    "v = 1"
   ]
  },
  {
   "cell_type": "code",
   "execution_count": 8,
   "metadata": {
    "collapsed": false,
    "scrolled": true
   },
   "outputs": [],
   "source": [
    "unblobbed = [apply_filter(img, v) for img in imgs]\n",
    "#plot_captchas(unblobbed)"
   ]
  },
  {
   "cell_type": "code",
   "execution_count": 9,
   "metadata": {
    "collapsed": false,
    "scrolled": true
   },
   "outputs": [],
   "source": [
    "#unblobbed = [apply_filter(img, v = 2) for img in imgs]\n",
    "#plot_captchas(unblobbed)"
   ]
  },
  {
   "cell_type": "markdown",
   "metadata": {},
   "source": [
    "------------------------\n",
    "\n",
    "# Extração e arquivo das letras dos primeiros captchas"
   ]
  },
  {
   "cell_type": "code",
   "execution_count": 10,
   "metadata": {
    "collapsed": false
   },
   "outputs": [],
   "source": [
    "captcha_letters = dict()\n",
    "captcha_letters.clear()\n",
    "#print(captcha_letters == {})"
   ]
  },
  {
   "cell_type": "code",
   "execution_count": 11,
   "metadata": {
    "collapsed": false,
    "scrolled": true
   },
   "outputs": [],
   "source": [
    "# 6º caractere\n",
    "cropped = [crop_char(img, 5) for img in unblobbed ]\n",
    "#plot_captchas( cropped, (4, 5) )"
   ]
  },
  {
   "cell_type": "code",
   "execution_count": 12,
   "metadata": {
    "collapsed": false
   },
   "outputs": [],
   "source": [
    "letters = ('9', 'g', 'b', 'q', 'o',\n",
    "           'x', 'b', 'L', 'R', 'M',\n",
    "           'L', 'L', '3', 'E', 'z',\n",
    "           '1', '1', 'e', 'A', 'u')\n",
    "# o, x, M, u\n",
    "\n",
    "feed_char_dict(captcha_letters, letters, cropped)"
   ]
  },
  {
   "cell_type": "code",
   "execution_count": 13,
   "metadata": {
    "collapsed": false,
    "scrolled": true
   },
   "outputs": [],
   "source": [
    "# 5º caractere\n",
    "cropped = [crop_char(img, 4) for img in unblobbed ]\n",
    "#plot_captchas( cropped, (4, 5) )"
   ]
  },
  {
   "cell_type": "code",
   "execution_count": 14,
   "metadata": {
    "collapsed": false
   },
   "outputs": [],
   "source": [
    "letters = ('k', 'B', 'g', 'c', 'L',\n",
    "           's', 'F', 'd', 'o', 'A',\n",
    "           'y', '7', 'k', 'y', 'J',\n",
    "           'q', 'k', 'z', '3', 'x')\n",
    "\n",
    "feed_char_dict(captcha_letters, letters, cropped)"
   ]
  },
  {
   "cell_type": "code",
   "execution_count": 15,
   "metadata": {
    "collapsed": false,
    "scrolled": true
   },
   "outputs": [],
   "source": [
    "# 4º caractere\n",
    "cropped = [crop_char(img, 3) for img in unblobbed ]\n",
    "#plot_captchas( cropped, (4, 5) )"
   ]
  },
  {
   "cell_type": "code",
   "execution_count": 16,
   "metadata": {
    "collapsed": false
   },
   "outputs": [],
   "source": [
    "letters = ('j', '6', '6', 's', 'L',\n",
    "           'f', 'E', '5', 'w', 'a',\n",
    "           'i', 's', 'F', 'b', 'M',\n",
    "           's', 'k', '3', 'v', 'h')\n",
    "\n",
    "feed_char_dict(captcha_letters, letters, cropped)"
   ]
  },
  {
   "cell_type": "code",
   "execution_count": 17,
   "metadata": {
    "collapsed": false,
    "scrolled": true
   },
   "outputs": [],
   "source": [
    "# 3º caractere\n",
    "cropped = [crop_char(img, 2) for img in unblobbed ]\n",
    "#plot_captchas( cropped, (4, 5) )"
   ]
  },
  {
   "cell_type": "code",
   "execution_count": 18,
   "metadata": {
    "collapsed": false
   },
   "outputs": [],
   "source": [
    "letters = ('p', 'v', 'y', 'g', 's',\n",
    "           '2', 'n', 'B', 's', 'i',\n",
    "           'k', 'a', 'p', 'v', 'z',\n",
    "           't', 'E', 'c', 'G', 'A')\n",
    "\n",
    "feed_char_dict(captcha_letters, letters, cropped)"
   ]
  },
  {
   "cell_type": "code",
   "execution_count": 19,
   "metadata": {
    "collapsed": false,
    "scrolled": true
   },
   "outputs": [],
   "source": [
    "# 2º caractere\n",
    "cropped = [crop_char(img, 1) for img in unblobbed ]\n",
    "#plot_captchas( cropped, (4, 5) )"
   ]
  },
  {
   "cell_type": "code",
   "execution_count": 20,
   "metadata": {
    "collapsed": false
   },
   "outputs": [],
   "source": [
    "letters = ('v', 'w', 'z', 'Q', 'R',\n",
    "           '3', 'H', 'q', 's', 's',\n",
    "           'm', 'u', 'a', 'M', 'D',\n",
    "           'y', '9', 'p', 'o', 'n')\n",
    "\n",
    "feed_char_dict(captcha_letters, letters, cropped)"
   ]
  },
  {
   "cell_type": "code",
   "execution_count": 21,
   "metadata": {
    "collapsed": false,
    "scrolled": true
   },
   "outputs": [],
   "source": [
    "# 1º caractere\n",
    "cropped = [crop_char(img, 0) for img in unblobbed ]\n",
    "#plot_captchas( cropped, (4, 5) )"
   ]
  },
  {
   "cell_type": "code",
   "execution_count": 22,
   "metadata": {
    "collapsed": false
   },
   "outputs": [],
   "source": [
    "letters = ('v', 'T', 'g', '8', 's',\n",
    "           'k', 'n', 'q', 'w', 'g',\n",
    "           'E', 'j', 'i', '4', '6',\n",
    "           'A', 'v', '9', '9', 'w')\n",
    "\n",
    "feed_char_dict(captcha_letters, letters, cropped)"
   ]
  },
  {
   "cell_type": "markdown",
   "metadata": {},
   "source": [
    "----------\n",
    "\n",
    "# Inclusão dos novos captchas\n",
    "\n",
    "À partir daqui farei a inclusão dos novos captchas no dicionário já criado **captcha_letters**:"
   ]
  },
  {
   "cell_type": "code",
   "execution_count": 23,
   "metadata": {
    "collapsed": false,
    "scrolled": true
   },
   "outputs": [],
   "source": [
    "img_files = sorted(glob('../imagens/gerarCaptcha.asp*.png'))\n",
    "#print(img_files)\n",
    "imgs = skio.imread_collection(img_files)"
   ]
  },
  {
   "cell_type": "code",
   "execution_count": 24,
   "metadata": {
    "collapsed": false,
    "scrolled": true
   },
   "outputs": [],
   "source": [
    "#plot_captchas(imgs, (10, 10))"
   ]
  },
  {
   "cell_type": "code",
   "execution_count": 25,
   "metadata": {
    "collapsed": false,
    "scrolled": true
   },
   "outputs": [],
   "source": [
    "unblobbed = [apply_filter(img, v) for img in imgs]\n",
    "#plot_captchas(unblobbed)"
   ]
  },
  {
   "cell_type": "code",
   "execution_count": 26,
   "metadata": {
    "collapsed": false,
    "scrolled": true
   },
   "outputs": [],
   "source": [
    "# 6º caractere\n",
    "cropped = [crop_char(img, 5) for img in unblobbed ]\n",
    "#plot_captchas( cropped, (10, 10) )"
   ]
  },
  {
   "cell_type": "code",
   "execution_count": 27,
   "metadata": {
    "collapsed": true
   },
   "outputs": [],
   "source": [
    "letters = ('D', 'm', 'n', '4', 'k', 'J', '8', 'u', '3', '6',\n",
    "            '3', 'z', 'c', 'x', 'u', 'e', 'B', 'w', 'y', '1',\n",
    "            'u', 'x', '2', 's', '5', 'a', 'v', 'G', '7', 'h',\n",
    "            'r', 'P', 'f', '1', 's', '6', 'v', '4', 'h', 'A',\n",
    "            '4', 'R', 't', 'x', 'G', 'j', 'n', '1', '4', 'z',\n",
    "            'p', 'u', 's', '9', 'c', 'r', '3', 'G', 'k', 'G',\n",
    "            's', 't', 'A', '8', 'Q', 's', 'o', 'T', 'h', '5',\n",
    "            'M', 'z', 'G', 's', '6', 'y', 'k', 'w', 'B', 'p',\n",
    "            'c', 'a', 's', 'G', '2', '3', 'N', 'A', 'z', 'y',\n",
    "            'p', 'Q', 'B', 'u', 'd', 'A', 'H', 'B', '2', 's')\n",
    "\n",
    "feed_char_dict(captcha_letters, letters, cropped)"
   ]
  },
  {
   "cell_type": "code",
   "execution_count": 28,
   "metadata": {
    "collapsed": false,
    "scrolled": true
   },
   "outputs": [],
   "source": [
    "# 5º caractere\n",
    "cropped = [crop_char(img, 4) for img in unblobbed ]\n",
    "#plot_captchas( cropped, (10, 10) )"
   ]
  },
  {
   "cell_type": "code",
   "execution_count": 29,
   "metadata": {
    "collapsed": true
   },
   "outputs": [],
   "source": [
    "letters = ('8', 'u', 'H', 'q', 'p', 'x', 'j', 'y', 'k', 'j',\n",
    "            'w', 'j', 'p', 'x', 'x', 'p', 'q', '1', 'u', 'G',\n",
    "            'a', 'w', 'p', 'M', 'w', 'w', 'g', 'E', 'g', 'x',\n",
    "            'r', '1', 'c', '9', 'y', 'N', 'N', 'D', 'J', 'g',\n",
    "            'h', 'j', 'B', '5', 'a', 'L', '6', '8', 'x', 'E',\n",
    "            'R', 'u', 'v', 'q', 'T', '5', 'w', 's', 'F', 'T',\n",
    "            'i', '7', '6', 'J', 'z', '1', 'b', 'v', '7', 'D',\n",
    "            'N', 'v', 'e', 'q', 'v', 'r', 'm', 'r', 'e', 'B',\n",
    "            'o', 'm', 'y', 'k', 'a', 'H', 'c', 'u', 'j', 'd',\n",
    "            'q', 'p', 'r', '2', 'B', 'c', 'H', 'D', 'Q', 'h')\n",
    "\n",
    "feed_char_dict(captcha_letters, letters, cropped)"
   ]
  },
  {
   "cell_type": "code",
   "execution_count": 30,
   "metadata": {
    "collapsed": false,
    "scrolled": true
   },
   "outputs": [],
   "source": [
    "# 4º caractere\n",
    "cropped = [crop_char(img, 3) for img in unblobbed ]\n",
    "#plot_captchas( cropped, (10, 10) )"
   ]
  },
  {
   "cell_type": "code",
   "execution_count": 31,
   "metadata": {
    "collapsed": true
   },
   "outputs": [],
   "source": [
    "letters = ('n', 'n', 'G', 'Q', 'x', 'M', 'A', 'u', 'x', 'n',\n",
    "            't', 'H', 'y', 'v', 'x', 'k', '5', 'E', 'p', '9',\n",
    "            's', '1', 'J', 'L', 'z', 'H', 'M', '7', 'T', 'h',\n",
    "            '6', 's', 'R', '8', 'H', '9', 'T', 'F', 'Q', 'e',\n",
    "            's', 'B', '3', 'v', 'L', '8', 'A', 'x', 'p', 'u',\n",
    "            'v', 's', 'q', 'd', 'e', 'u', 'm', 'k', 'B', 'E',\n",
    "            'a', 't', 'F', 's', 'n', 'E', 'y', 'T', '4', '5',\n",
    "            'l', 'a', '6', 'p', 'v', 'J', '7', 'i', 'm', 'J',\n",
    "            'n', 'i', 'a', '7', 'b', '3', '7', 'p', '3', 'v',\n",
    "            '1', 'y', 'R', 'k', 'T', 'v', 'p', 'p', 'c', 'u')\n",
    "\n",
    "feed_char_dict(captcha_letters, letters, cropped)"
   ]
  },
  {
   "cell_type": "code",
   "execution_count": 32,
   "metadata": {
    "collapsed": false,
    "scrolled": true
   },
   "outputs": [],
   "source": [
    "# 3º caractere\n",
    "cropped = [crop_char(img, 2) for img in unblobbed ]\n",
    "#plot_captchas( cropped, (10, 10) )"
   ]
  },
  {
   "cell_type": "code",
   "execution_count": 33,
   "metadata": {
    "collapsed": false
   },
   "outputs": [],
   "source": [
    "letters = ('j', 'n', '1', 'R', 'r', 't', 'o', 'w', 'n', 'c',\n",
    "          'r', 'o', 'm', 'a', 'd', 'e', 'M', 'y', 'u', 'F',\n",
    "          'o', 'N', 'y', '8', 'p', 't', 'i', 'n', 'v', 'q',\n",
    "          'r', 's', 'b', 'r', '1', '8', 'Q', 'G', 'o', 'o',\n",
    "          '4', 'q', '5', 'T', 'b', 'e', 'f', 'v', '1', 'i',\n",
    "          'a', 'H', 'w', 's', 'v', 'H', 'H', 'd', 'H', '1',\n",
    "          '6', 'y', '6', '8', 'z', 'n', 'F', 'n', 'f', 'B',\n",
    "          'e', 'm', '9', 'A', 'r', '4', 'a', 'T', 'o', 'q',\n",
    "          'j', 'u', 'A', 'y', 'D', 'p', 'E', 'p', 'H', '1',\n",
    "          '5', 'n', 'b', '6', '4', 'd', '5', 'H', 'G', 'c')\n",
    "\n",
    "feed_char_dict(captcha_letters, letters, cropped)"
   ]
  },
  {
   "cell_type": "code",
   "execution_count": 34,
   "metadata": {
    "collapsed": false,
    "scrolled": true
   },
   "outputs": [],
   "source": [
    "# 2º caractere\n",
    "\n",
    "cropped = [crop_char(img, 1) for img in unblobbed ]\n",
    "#plot_captchas( cropped, (10, 10) )"
   ]
  },
  {
   "cell_type": "code",
   "execution_count": 35,
   "metadata": {
    "collapsed": true
   },
   "outputs": [],
   "source": [
    "letters = ('m', 's', 'k', 'v', 'c', 'L', 'R', 'w', 'x', 'g',\n",
    "          'v', 'h', 'k', 'T', '7', 'R', '7', 'y', 's', 'z',\n",
    "          'o', '4', 'o', 'e', 'A', 'z', 'J', '8', 'i', 'y',\n",
    "          '8', 'v', 'p', 'm', 'a', 'o', 'w', 'u', 'k', 'N',\n",
    "          'e', 'Q', '3', 'b', 'b', 'c', 'c', '7', 'z', 'T',\n",
    "          'T', '5', 'M', 'z', 'k', '3', 'r', 'N', 'c', 'k',\n",
    "          '9', 'n', 'u', 'y', '3', 'u', 'v', '1', 'A', 'n',\n",
    "          'J', 'v', 'n', 'x', 'y', '3', 'u', 'H', 'R', 'c',\n",
    "          'W', 'g', 'x', 'F', '2', 'v', 'o', 'E', 'v', '1',\n",
    "          'd', '3', 'x', '7', 'L', 'g', 'z', 'H', 'r', 's')\n",
    "\n",
    "feed_char_dict(captcha_letters, letters, cropped)"
   ]
  },
  {
   "cell_type": "code",
   "execution_count": 36,
   "metadata": {
    "collapsed": false,
    "scrolled": true
   },
   "outputs": [],
   "source": [
    "# 1º caractere\n",
    "cropped = [crop_char(img, 0) for img in unblobbed ]\n",
    "#plot_captchas( cropped, (10, 10) )"
   ]
  },
  {
   "cell_type": "code",
   "execution_count": 37,
   "metadata": {
    "collapsed": false
   },
   "outputs": [],
   "source": [
    "letters = ('r', 'J', 'c', 'w', 'j', 'p', 'u', 'D', 'p', 'p',\n",
    "          'i', 'p', 'p', '4', 'b', 'u', 't', 'L', 'y', '5',\n",
    "          'F', '9', '7', 'E', 'A', 'L', 'f', 'c', 'T', 'a',\n",
    "          'E', 'k', 'a', '8', 'w', 'H', 'k', 's', 's', 'r',\n",
    "          'w', 'p', 'k', 'N', 'D', 'E', 'p', 'E', 'z', 'y',\n",
    "          '7', 'g', 'n', 'u', 'm', 'x', '7', 'k', 'y', 'z',\n",
    "          'z', 'N', 't', 'g', 'n', 'v', 'h', 'e', 'R', 'o',\n",
    "          's', 'z', 'r', '1', '8', 'v', 'q', 'p', 'n', 'N',\n",
    "          '3', 'E', 'N', '1', 'D', 'G', 'x', 'h', 'u', 'A',\n",
    "          'F', 'w', '4', 'R', '9', 'H', 'a', 'p', 'c', 'B')\n",
    "\n",
    "feed_char_dict(captcha_letters, letters, cropped)"
   ]
  },
  {
   "cell_type": "code",
   "execution_count": 38,
   "metadata": {
    "collapsed": false
   },
   "outputs": [],
   "source": [
    "cropped = [crop_char(img, 1, x1 = 10, x2 = 40) for img in unblobbed ]\n",
    "#plot_captchas( cropped, (10, 10) )"
   ]
  },
  {
   "cell_type": "markdown",
   "metadata": {},
   "source": [
    "# Salvar base de dados de Letras"
   ]
  },
  {
   "cell_type": "code",
   "execution_count": 39,
   "metadata": {
    "collapsed": false
   },
   "outputs": [],
   "source": [
    "save_images(captcha_letters)"
   ]
  },
  {
   "cell_type": "code",
   "execution_count": null,
   "metadata": {
    "collapsed": true
   },
   "outputs": [],
   "source": []
  }
 ],
 "metadata": {
  "kernelspec": {
   "display_name": "Python 3",
   "language": "python",
   "name": "python3"
  },
  "language_info": {
   "codemirror_mode": {
    "name": "ipython",
    "version": 3
   },
   "file_extension": ".py",
   "mimetype": "text/x-python",
   "name": "python",
   "nbconvert_exporter": "python",
   "pygments_lexer": "ipython3",
   "version": "3.5.2"
  }
 },
 "nbformat": 4,
 "nbformat_minor": 1
}
