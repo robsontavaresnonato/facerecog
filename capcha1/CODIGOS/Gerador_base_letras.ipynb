{
 "cells": [
  {
   "cell_type": "markdown",
   "metadata": {},
   "source": [
    "# Projeto facerecog"
   ]
  },
  {
   "cell_type": "code",
   "execution_count": 1,
   "metadata": {
    "collapsed": false
   },
   "outputs": [],
   "source": [
    "#pacotes = !pip freeze"
   ]
  },
  {
   "cell_type": "code",
   "execution_count": 2,
   "metadata": {
    "collapsed": false
   },
   "outputs": [],
   "source": [
    "#%%writefile requirements.txt\n",
    "\n",
    "# lista extensa do environment, depois filtro para os que foram utilizados realmente\n",
    "#ipython==5.1.0\n",
    "#jupyter==1.0.0\n",
    "#matplotlib==1.5.3\n",
    "#notebook==4.2.3\n",
    "#numpy==1.11.2\n",
    "#pandas==0.18.1\n",
    "#Pillow==3.4.1\n",
    "#pytesseract==0.1.6\n",
    "#scikit-image==0.12.3\n",
    "#scikit-learn-0.18\n",
    "#scipy==0.18.1\n",
    "#seaborn==0.7.1\n",
    "\n",
    "# the following must be installed separately\n",
    "# opencv==3.1.0\n",
    "# tesseract"
   ]
  },
  {
   "cell_type": "code",
   "execution_count": 3,
   "metadata": {
    "collapsed": true
   },
   "outputs": [],
   "source": [
    "# uncomment line below to install requirements (recommended to use a virtualenv)\n",
    "#!pip install -r requirements.txt"
   ]
  },
  {
   "cell_type": "markdown",
   "metadata": {},
   "source": [
    "-----------------------\n",
    "\n",
    "# Importação de pacotes"
   ]
  },
  {
   "cell_type": "code",
   "execution_count": 4,
   "metadata": {
    "collapsed": false
   },
   "outputs": [],
   "source": [
    "%matplotlib inline\n",
    "\"\"\" handling files support packages \"\"\"\n",
    "from glob import glob\n",
    "\n",
    "\"\"\" logic support packages \"\"\"\n",
    "import numpy as np\n",
    "import pytesseract\n",
    "import itertools\n",
    "import csv\n",
    "import pandas as pd\n",
    "\n",
    "\"\"\" plot support packages \"\"\"\n",
    "import matplotlib.pyplot as plt\n",
    "import matplotlib.gridspec as gridspec\n",
    "\n",
    "\"\"\" image trasformation packages \"\"\"\n",
    "from PIL import Image\n",
    "import skimage.io as skio\n",
    "from skimage.util import dtype_limits\n",
    "from skimage.morphology import label\n",
    "from skimage.measure import regionprops\n",
    "from skimage.morphology import label, skeletonize\n",
    "from skimage.filters import rank\n",
    "from skimage import color\n",
    "from skimage import restoration\n",
    "from skimage import feature\n",
    "from skimage.measure import compare_ssim, compare_mse\n",
    "from sklearn.preprocessing import binarize\n",
    "\n",
    "\"\"\" statistical data visualization packages\"\"\"\n",
    "import seaborn as sns\n",
    "\n",
    "\"\"\" seaborn configurations \"\"\"\n",
    "sns.set_style('white')\n",
    "sns.set_context('talk')\n",
    "plt.rcParams['figure.figsize'] = 20, 10"
   ]
  },
  {
   "cell_type": "code",
   "execution_count": 5,
   "metadata": {
    "collapsed": false
   },
   "outputs": [],
   "source": [
    "from funcoes import apply_filter, mse, compare_images, load_image, save_image, plot_captchas, save_images, crop_char, feed_char_dict, ler_letras, checar_combinacoes, remove_small_blobs, run_tesseract"
   ]
  },
  {
   "cell_type": "markdown",
   "metadata": {},
   "source": [
    "----------------------------\n",
    "\n",
    "# Leitura das imagens iniciais funções de suporte"
   ]
  },
  {
   "cell_type": "code",
   "execution_count": 6,
   "metadata": {
    "collapsed": false,
    "scrolled": false
   },
   "outputs": [],
   "source": [
    "img_files = sorted(glob('../imagens/captcha*.png'))\n",
    "#print(img_files)\n",
    "imgs = skio.imread_collection(img_files)\n",
    "#print(imgs.files)"
   ]
  },
  {
   "cell_type": "code",
   "execution_count": 7,
   "metadata": {
    "collapsed": false,
    "scrolled": true
   },
   "outputs": [],
   "source": [
    "# Qual versão de filtro será usada? 1, 2 ou 3?\n",
    "v = 2\n",
    "plot = False\n",
    "save = True"
   ]
  },
  {
   "cell_type": "code",
   "execution_count": 8,
   "metadata": {
    "collapsed": false,
    "scrolled": true
   },
   "outputs": [],
   "source": [
    "unblobbed = [apply_filter(img, v) for img in imgs]\n",
    "if plot: plot_captchas(unblobbed)"
   ]
  },
  {
   "cell_type": "markdown",
   "metadata": {},
   "source": [
    "------------------------\n",
    "\n",
    "# Extração e arquivo das letras dos primeiros captchas"
   ]
  },
  {
   "cell_type": "code",
   "execution_count": 9,
   "metadata": {
    "collapsed": false
   },
   "outputs": [],
   "source": [
    "captcha_letters = dict()\n",
    "captcha_letters.clear()\n",
    "if plot: print(captcha_letters == {})"
   ]
  },
  {
   "cell_type": "code",
   "execution_count": 10,
   "metadata": {
    "collapsed": false,
    "scrolled": true
   },
   "outputs": [],
   "source": [
    "# 6º caractere\n",
    "cropped = [crop_char(img, 5) for img in unblobbed ]\n",
    "if plot: plot_captchas( cropped, (4, 5) )"
   ]
  },
  {
   "cell_type": "code",
   "execution_count": 11,
   "metadata": {
    "collapsed": false
   },
   "outputs": [],
   "source": [
    "letters = ('9', 'g', 'b', 'q', 'o',\n",
    "           'x', 'b', 'l', 'r', 'm',\n",
    "           'l', 'l', '3', 'e', 'z',\n",
    "           '1', '1', 'e', 'a', 'u')\n",
    "\n",
    "\n",
    "feed_char_dict(captcha_letters, letters, cropped)"
   ]
  },
  {
   "cell_type": "code",
   "execution_count": 12,
   "metadata": {
    "collapsed": false,
    "scrolled": true
   },
   "outputs": [],
   "source": [
    "# 5º caractere\n",
    "cropped = [crop_char(img, 4) for img in unblobbed ]\n",
    "if plot: plot_captchas( cropped, (4, 5) )"
   ]
  },
  {
   "cell_type": "code",
   "execution_count": 13,
   "metadata": {
    "collapsed": false
   },
   "outputs": [],
   "source": [
    "letters = ('k', 'b', 'g', 'c', 'l',\n",
    "           's', 'f', 'd', 'o', 'a',\n",
    "           'y', '7', 'k', 'y', 'j',\n",
    "           'q', 'k', 'z', '3', 'x')\n",
    "\n",
    "feed_char_dict(captcha_letters, letters, cropped)"
   ]
  },
  {
   "cell_type": "code",
   "execution_count": 14,
   "metadata": {
    "collapsed": false,
    "scrolled": true
   },
   "outputs": [],
   "source": [
    "# 4º caractere\n",
    "cropped = [crop_char(img, 3) for img in unblobbed ]\n",
    "if plot: plot_captchas( cropped, (4, 5) )"
   ]
  },
  {
   "cell_type": "code",
   "execution_count": 15,
   "metadata": {
    "collapsed": false
   },
   "outputs": [],
   "source": [
    "letters = ('j', '6', '6', 's', 'l',\n",
    "           'f', 'e', '5', 'w', 'a',\n",
    "           'i', 's', 'f', 'b', 'm',\n",
    "           's', 'k', '3', 'v', 'h')\n",
    "\n",
    "feed_char_dict(captcha_letters, letters, cropped)"
   ]
  },
  {
   "cell_type": "code",
   "execution_count": 16,
   "metadata": {
    "collapsed": false,
    "scrolled": true
   },
   "outputs": [],
   "source": [
    "# 3º caractere\n",
    "cropped = [crop_char(img, 2) for img in unblobbed ]\n",
    "if plot: plot_captchas( cropped, (4, 5) )"
   ]
  },
  {
   "cell_type": "code",
   "execution_count": 17,
   "metadata": {
    "collapsed": false
   },
   "outputs": [],
   "source": [
    "letters = ('p', 'v', 'y', 'g', 's',\n",
    "           '2', 'n', 'b', 's', 'i',\n",
    "           'k', 'a', 'p', 'v', 'z',\n",
    "           't', 'e', 'c', 'g', 'a')\n",
    "\n",
    "feed_char_dict(captcha_letters, letters, cropped)"
   ]
  },
  {
   "cell_type": "code",
   "execution_count": 18,
   "metadata": {
    "collapsed": false,
    "scrolled": true
   },
   "outputs": [],
   "source": [
    "# 2º caractere\n",
    "cropped = [crop_char(img, 1) for img in unblobbed ]\n",
    "if plot: plot_captchas( cropped, (4, 5) )"
   ]
  },
  {
   "cell_type": "code",
   "execution_count": 19,
   "metadata": {
    "collapsed": false
   },
   "outputs": [],
   "source": [
    "letters = ('v', 'w', 'z', 'q', 'r',\n",
    "           '3', 'h', 'q', 's', 's',\n",
    "           'm', 'u', 'a', 'm', 'd',\n",
    "           'y', '9', 'p', 'o', 'n')\n",
    "\n",
    "feed_char_dict(captcha_letters, letters, cropped)"
   ]
  },
  {
   "cell_type": "code",
   "execution_count": 20,
   "metadata": {
    "collapsed": false,
    "scrolled": true
   },
   "outputs": [],
   "source": [
    "# 1º caractere\n",
    "cropped = [crop_char(img, 0) for img in unblobbed ]\n",
    "if plot: plot_captchas( cropped, (4, 5) )"
   ]
  },
  {
   "cell_type": "code",
   "execution_count": 21,
   "metadata": {
    "collapsed": false
   },
   "outputs": [],
   "source": [
    "letters = ('v', 't', 'g', '8', 's',\n",
    "           'k', 'n', 'q', 'w', 'g',\n",
    "           'e', 'j', 'i', '4', '6',\n",
    "           'a', 'v', '9', '9', 'w')\n",
    "\n",
    "feed_char_dict(captcha_letters, letters, cropped)"
   ]
  },
  {
   "cell_type": "markdown",
   "metadata": {},
   "source": [
    "----------\n",
    "\n",
    "# Inclusão dos novos captchas\n",
    "\n",
    "À partir daqui farei a inclusão dos novos captchas no dicionário já criado **captcha_letters**:"
   ]
  },
  {
   "cell_type": "code",
   "execution_count": 22,
   "metadata": {
    "collapsed": false,
    "scrolled": true
   },
   "outputs": [],
   "source": [
    "img_files = sorted(glob(r'../imagens/gerarCaptcha.asp[0-9]?.png') + glob(r'../imagens/gerarCaptcha.asp[0-9].png'))\n",
    "#print(img_files)\n",
    "imgs = skio.imread_collection(img_files)"
   ]
  },
  {
   "cell_type": "code",
   "execution_count": 23,
   "metadata": {
    "collapsed": false,
    "scrolled": true
   },
   "outputs": [],
   "source": [
    "#plot_captchas(imgs, (10, 10))"
   ]
  },
  {
   "cell_type": "code",
   "execution_count": 24,
   "metadata": {
    "collapsed": false,
    "scrolled": true
   },
   "outputs": [],
   "source": [
    "unblobbed = [apply_filter(img, v) for img in imgs]\n",
    "if plot: plot_captchas(unblobbed, (10, 10))"
   ]
  },
  {
   "cell_type": "code",
   "execution_count": 25,
   "metadata": {
    "collapsed": false,
    "scrolled": true
   },
   "outputs": [],
   "source": [
    "# 6º caractere\n",
    "cropped = [crop_char(img, 5) for img in unblobbed ]\n",
    "if plot: plot_captchas( cropped, (10, 10) )"
   ]
  },
  {
   "cell_type": "code",
   "execution_count": 26,
   "metadata": {
    "collapsed": true
   },
   "outputs": [],
   "source": [
    "letters = ('d', 'm', 'n', '4', 'k', 'j', '8', 'u', '3', '6',\n",
    "            '3', 'z', 'c', 'x', 'u', 'e', 'b', 'w', 'y', '1',\n",
    "            'u', 'x', '2', 's', '5', 'a', 'v', 'g', '7', 'h',\n",
    "            'r', 'p', 'f', '1', 's', '6', 'v', '4', 'h', 'a',\n",
    "            '4', 'r', 't', 'x', 'g', 'j', 'n', '1', '4', 'z',\n",
    "            'p', 'u', 's', '9', 'c', 'r', '3', 'g', 'k', 'g',\n",
    "            's', 't', 'a', '8', 'q', 's', 'o', 't', 'h', '5',\n",
    "            'm', 'z', 'g', 's', '6', 'y', 'k', 'w', 'b', 'p',\n",
    "            'c', 'a', 's', 'g', '2', '3', 'n', 'a', 'z', 'y',\n",
    "            'p', 'q', 'b', 'u', 'd', 'a', 'h', 'b', '2', 's')\n",
    "\n",
    "feed_char_dict(captcha_letters, letters, cropped)"
   ]
  },
  {
   "cell_type": "code",
   "execution_count": 27,
   "metadata": {
    "collapsed": false,
    "scrolled": true
   },
   "outputs": [],
   "source": [
    "# 5º caractere\n",
    "cropped = [crop_char(img, 4) for img in unblobbed ]\n",
    "if plot: plot_captchas( cropped, (10, 10) )"
   ]
  },
  {
   "cell_type": "code",
   "execution_count": 28,
   "metadata": {
    "collapsed": true
   },
   "outputs": [],
   "source": [
    "letters = ('8', 'u', 'h', 'q', 'p', 'x', 'j', 'y', 'k', 'j',\n",
    "            'w', 'j', 'p', 'x', 'x', 'p', 'q', '1', 'u', 'g',\n",
    "            'a', 'w', 'p', 'm', 'w', 'w', 'g', 'e', 'g', 'x',\n",
    "            'r', '1', 'c', '9', 'y', 'n', 'n', 'd', 'j', 'g',\n",
    "            'h', 'j', 'b', '5', 'a', 'l', '6', '8', 'x', 'e',\n",
    "            'r', 'u', 'v', 'q', 't', '5', 'w', 's', 'f', 't',\n",
    "            'i', '7', '6', 'j', 'z', '1', 'b', 'v', '7', 'd',\n",
    "            'n', 'v', 'e', 'q', 'v', 'r', 'm', 'r', 'e', 'b',\n",
    "            'o', 'm', 'y', 'k', 'a', 'h', 'c', 'u', 'j', 'd',\n",
    "            'q', 'p', 'r', '2', 'b', 'c', 'h', 'd', 'q', 'h')\n",
    "\n",
    "feed_char_dict(captcha_letters, letters, cropped)"
   ]
  },
  {
   "cell_type": "code",
   "execution_count": 29,
   "metadata": {
    "collapsed": false,
    "scrolled": true
   },
   "outputs": [],
   "source": [
    "# 4º caractere\n",
    "cropped = [crop_char(img, 3) for img in unblobbed ]\n",
    "if plot: plot_captchas( cropped, (10, 10) )"
   ]
  },
  {
   "cell_type": "code",
   "execution_count": 30,
   "metadata": {
    "collapsed": true
   },
   "outputs": [],
   "source": [
    "letters = ('n', 'n', 'g', 'q', 'x', 'm', 'a', 'u', 'x', 'n',\n",
    "            't', 'h', 'y', 'v', 'x', 'k', '5', 'e', 'p', '9',\n",
    "            's', '1', 'j', 'l', 'z', 'h', 'm', '7', 't', 'h',\n",
    "            '6', 's', 'r', '8', 'h', '9', 't', 'f', 'q', 'e',\n",
    "            's', 'b', '3', 'v', 'l', '8', 'a', 'x', 'p', 'u',\n",
    "            'v', 's', 'q', 'd', 'e', 'u', 'm', 'k', 'b', 'e',\n",
    "            'a', 't', 'f', 's', 'n', 'e', 'y', 't', '4', '5',\n",
    "            '1', 'a', '6', 'p', 'v', 'j', '7', 'i', 'm', 'j',\n",
    "            'n', 'i', 'a', '7', 'b', '3', '7', 'p', '3', 'v',\n",
    "            '1', 'y', 'r', 'k', 't', 'v', 'p', 'p', 'c', 'u')\n",
    "\n",
    "feed_char_dict(captcha_letters, letters, cropped)"
   ]
  },
  {
   "cell_type": "code",
   "execution_count": 31,
   "metadata": {
    "collapsed": false,
    "scrolled": true
   },
   "outputs": [],
   "source": [
    "# 3º caractere\n",
    "cropped = [crop_char(img, 2) for img in unblobbed ]\n",
    "if plot: plot_captchas( cropped, (10, 10) )"
   ]
  },
  {
   "cell_type": "code",
   "execution_count": 32,
   "metadata": {
    "collapsed": false
   },
   "outputs": [],
   "source": [
    "letters = ('j', 'n', '1', 'r', 'r', 't', 'o', 'w', 'n', 'c',\n",
    "          'r', 'o', 'm', 'a', 'd', 'e', 'm', 'y', 'u', 'f',\n",
    "          'o', 'n', 'y', '8', 'p', 't', 'i', 'n', 'v', 'q',\n",
    "          'r', 's', 'b', 'r', '1', '8', 'q', 'g', 'u', 'o',\n",
    "          '4', 'q', '5', 't', 'b', 'e', 'f', 'v', '1', 'i',\n",
    "          'a', 'h', 'w', 's', 'v', 'h', 'h', 'd', 'h', '1',\n",
    "          '6', 'y', '6', '8', 'z', 'n', 'f', 'n', 'f', 'b',\n",
    "          'e', 'm', '9', 'a', 'r', '4', 'a', 't', 'o', 'q',\n",
    "          'j', 'u', 'a', 'y', 'd', 'p', 'e', 'p', 'h', '1',\n",
    "          '5', 'n', 'b', '6', '4', 'd', '5', 'h', 'g', 'c')\n",
    "\n",
    "feed_char_dict(captcha_letters, letters, cropped)"
   ]
  },
  {
   "cell_type": "code",
   "execution_count": 33,
   "metadata": {
    "collapsed": false,
    "scrolled": true
   },
   "outputs": [],
   "source": [
    "# 2º caractere\n",
    "\n",
    "cropped = [crop_char(img, 1) for img in unblobbed ]\n",
    "if plot: plot_captchas( cropped, (10, 10) )"
   ]
  },
  {
   "cell_type": "code",
   "execution_count": 34,
   "metadata": {
    "collapsed": true
   },
   "outputs": [],
   "source": [
    "letters = ('m', 's', 'k', 'v', 'c', 'l', 'r', 'w', 'x', 'g',\n",
    "          'v', 'h', 'k', 't', '7', 'r', '7', 'y', 's', 'z',\n",
    "          'o', '4', 'o', 'e', 'a', 'z', 'j', '8', 'i', 'y',\n",
    "          '8', 'v', 'p', 'm', 'a', 'o', 'w', 'u', 'k', 'n',\n",
    "          'e', 'q', '3', 'b', 'b', 'c', 'c', '7', 'z', 't',\n",
    "          't', '5', 'm', 'z', 'k', '3', 'r', 'n', 'c', 'k',\n",
    "          '9', 'n', 'u', 'y', '3', 'u', 'v', '1', 'a', 'n',\n",
    "          'j', 'v', 'n', 'x', 'y', '3', 'u', 'h', 'r', 'c',\n",
    "          'w', 'g', 'x', 'f', '2', 'v', 'o', 'e', 'v', '1',\n",
    "          'd', '3', 'x', '7', 'l', 'g', 'z', 'h', 'r', 's')\n",
    "\n",
    "feed_char_dict(captcha_letters, letters, cropped)"
   ]
  },
  {
   "cell_type": "code",
   "execution_count": 35,
   "metadata": {
    "collapsed": false,
    "scrolled": true
   },
   "outputs": [],
   "source": [
    "# 1º caractere\n",
    "cropped = [crop_char(img, 0) for img in unblobbed ]\n",
    "if plot: plot_captchas( cropped, (10, 10) )"
   ]
  },
  {
   "cell_type": "code",
   "execution_count": 36,
   "metadata": {
    "collapsed": false
   },
   "outputs": [],
   "source": [
    "letters = ('r', 'j', 'c', 'w', 'j', 'p', 'u', 'd', 'p', 'p',\n",
    "          'i', 'p', 'p', '4', 'b', 'u', 't', 'l', 'y', '5',\n",
    "          'f', '9', '7', 'e', 'a', 'l', 'f', 'c', 't', 'a',\n",
    "          'e', 'k', 'a', '8', 'w', 'h', 'k', 's', 's', 'r',\n",
    "          'w', 'p', 'k', 'n', 'd', 'e', 'p', 'e', 'z', 'y',\n",
    "          '7', 'g', 'n', 'u', 'm', 'x', '7', 'k', 'y', 'z',\n",
    "          'z', 'n', 't', 'g', 'n', 'v', 'h', 'e', 'r', 'o',\n",
    "          's', 'z', 'r', '1', '8', 'v', 'q', 'p', 'n', 'n',\n",
    "          '3', 'e', 'n', '1', 'd', 'g', 'x', 'h', 'u', 'a',\n",
    "          'f', 'w', '4', 'r', '9', 'h', 'a', 'p', 'c', 'b')\n",
    "\n",
    "feed_char_dict(captcha_letters, letters, cropped)"
   ]
  },
  {
   "cell_type": "code",
   "execution_count": 37,
   "metadata": {
    "collapsed": false
   },
   "outputs": [],
   "source": [
    "#cropped = [crop_char(img, 1, x1 = 10, x2 = 40) for img in unblobbed ]\n",
    "#plot_captchas( cropped, (10, 10) )"
   ]
  },
  {
   "cell_type": "markdown",
   "metadata": {},
   "source": [
    "# Adicao de + 70 imagens"
   ]
  },
  {
   "cell_type": "code",
   "execution_count": 38,
   "metadata": {
    "collapsed": true
   },
   "outputs": [],
   "source": [
    "img_files = sorted(glob(r'../imagens/gerarCaptcha.asp[0-9][0-9][0-9].png'))\n",
    "#print(img_files)\n",
    "imgs = skio.imread_collection(img_files)"
   ]
  },
  {
   "cell_type": "code",
   "execution_count": 39,
   "metadata": {
    "collapsed": false
   },
   "outputs": [],
   "source": [
    "if plot: plot_captchas(imgs, (7, 10))"
   ]
  },
  {
   "cell_type": "code",
   "execution_count": 40,
   "metadata": {
    "collapsed": false
   },
   "outputs": [],
   "source": [
    "unblobbed = [apply_filter(img, v) for img in imgs]\n",
    "if plot: plot_captchas(unblobbed, (7, 10))"
   ]
  },
  {
   "cell_type": "code",
   "execution_count": 41,
   "metadata": {
    "collapsed": false,
    "scrolled": true
   },
   "outputs": [],
   "source": [
    "# 6º caractere\n",
    "cropped = [crop_char(img, 5) for img in unblobbed ]\n",
    "if plot: plot_captchas( cropped, (7, 10) )"
   ]
  },
  {
   "cell_type": "code",
   "execution_count": 42,
   "metadata": {
    "collapsed": true
   },
   "outputs": [],
   "source": [
    "letters = ('4', 't', 's', 't', 'o', 'k', 'z', 'm', 'x', 'e',\n",
    "          'm', '8', 'b', 'r', 'f', 'p' ,'r', 'h', 't', 'r',\n",
    "          'w', 'f', '3', 'e', 'q', 's', '2' ,'r', 'g', 'b',\n",
    "          'v', 'p', 'x', 'r', '2', '4', 'e', 'w', 'e', '2',\n",
    "          'o', 'f', 'g', 'a', 'f', '8', 'j', 'w', 'q', '8',\n",
    "          't', 'c', 'c', 'w', 'g', '9', 'f', 'v', 'o', 'w',\n",
    "          '5', 'y', 'd', '1', 'k', 'o', 'a', 'k', 'm', 'd')\n",
    "\n",
    "feed_char_dict(captcha_letters, letters, cropped)"
   ]
  },
  {
   "cell_type": "code",
   "execution_count": 43,
   "metadata": {
    "collapsed": false,
    "scrolled": true
   },
   "outputs": [],
   "source": [
    "# 5º caractere\n",
    "cropped = [crop_char(img, 4) for img in unblobbed ]\n",
    "if plot: plot_captchas( cropped, (7, 10) )"
   ]
  },
  {
   "cell_type": "code",
   "execution_count": 44,
   "metadata": {
    "collapsed": true
   },
   "outputs": [],
   "source": [
    "letters = ('g', 'a', 'o', 'c', 'p', 'b', 'm', 'n', 'q', 'w',\n",
    "          's', 'n', 'u', 'd', '6', 'y', 'r', '8', 'q', 'q',\n",
    "          'g', 'a', 'd', 'k', 'q', 'm', 'x', 'e', 'f', 'u',\n",
    "          'z', 'o', 'y', 'l', 'o', 'k', 'o', 'c', 'm', 'v',\n",
    "          'n', 'r', 'y', 'm', '9', 'v', 'z', 'u', 'd', 'v',\n",
    "          'k', '3', '7', 'g', 'j', 't', '7', '1', 'o', 'h',\n",
    "          'z', 'o', 'f', 'i', 'w', 't', 'o', 'e', 'm', 'h')\n",
    "\n",
    "feed_char_dict(captcha_letters, letters, cropped)"
   ]
  },
  {
   "cell_type": "code",
   "execution_count": 45,
   "metadata": {
    "collapsed": false,
    "scrolled": true
   },
   "outputs": [],
   "source": [
    "# 4º caractere\n",
    "cropped = [crop_char(img, 3) for img in unblobbed ]\n",
    "if plot: plot_captchas( cropped, (7, 10) )"
   ]
  },
  {
   "cell_type": "code",
   "execution_count": 46,
   "metadata": {
    "collapsed": true
   },
   "outputs": [],
   "source": [
    "letters = ('j', 'k', 'e', 'z', '9', 'h', 'w', 'p', 'g', 'o',\n",
    "          'm', 'u', 'e', 't', 'j', '4', 'v', 'k', 'x', 'm',\n",
    "          's', 'l', 'e', 'g', 'p', 'z', 'e', 't', '6', 'a',\n",
    "          'n', 'z', 'k', 'g', 'f', 'u', '9', 'r', 'x', 'e',\n",
    "          't', 't', 'e', 'r', 'c', 'u', 'h', 'b', 'm', 'f',\n",
    "          'l', 't', 'h', 'v', 'w', 'z', '5', 'r', 'r', 'h',\n",
    "          'o', 'n', 'a', '4', 'p', 'k', 'g', 'g', 'g', '8')\n",
    "\n",
    "feed_char_dict(captcha_letters, letters, cropped)"
   ]
  },
  {
   "cell_type": "code",
   "execution_count": 47,
   "metadata": {
    "collapsed": false,
    "scrolled": true
   },
   "outputs": [],
   "source": [
    "# 3º caractere\n",
    "cropped = [crop_char(img, 2) for img in unblobbed ]\n",
    "if plot: plot_captchas( cropped, (7, 10) )"
   ]
  },
  {
   "cell_type": "code",
   "execution_count": 48,
   "metadata": {
    "collapsed": false
   },
   "outputs": [],
   "source": [
    "letters = ('3','n', 's', 's', 'a', '9', 'g', 'c', 'h', 'h',\n",
    "          '1', 'j', '3', '5', 'h', 'q', 'r', 'h', 's', 'o',\n",
    "          'v', 'k', 'j', 'c', 'c', 'n', 'b', 'd', 'z', 'v',\n",
    "          'e', 'j', '8', 'y', 'v', 'm', '3', 'q', 'e', 'w',\n",
    "          'd', 'q', 'k', 'c', 'p', '2', 'f', 'n', 'a', '2',\n",
    "          'y', 'a', '1', 'f', 'n', 'v', 'b', '2', 'e', 'q',\n",
    "          '5', 'n', 'v', 'z', '2', 'r', 'e', 'd', '3', 't')\n",
    "\n",
    "feed_char_dict(captcha_letters, letters, cropped)"
   ]
  },
  {
   "cell_type": "code",
   "execution_count": 49,
   "metadata": {
    "collapsed": false,
    "scrolled": true
   },
   "outputs": [],
   "source": [
    "# 2º caractere\n",
    "\n",
    "cropped = [crop_char(img, 1) for img in unblobbed ]\n",
    "if plot: plot_captchas( cropped, (7, 10) )"
   ]
  },
  {
   "cell_type": "code",
   "execution_count": 50,
   "metadata": {
    "collapsed": true
   },
   "outputs": [],
   "source": [
    "letters = ('s', 'g', 'k', 'c', 'p', 'r', 'u', 'y', 'o', '4',\n",
    "          '3', 'a', 't', 'r', 'n', 'u', 'r', 'f', 'e', 'r',\n",
    "          'z', 'b', 'x', 'h', 'c', 's', 't', 'j', 'd', 'z',\n",
    "          'y', 'm', 'r', '7', 'q', '1', 'v', '3', 'g', 's',\n",
    "          'r', '3', '2', 'y', 'o', '1', 'n', 'n', 't', 'g',\n",
    "          'h', '2', '1', 'w', 'v', 'j', 'x', '8', 'w', 'u',\n",
    "          'c', 'a', 'o', 'w', 'u', 'h' ,'n', 't', 't', 'c')\n",
    "\n",
    "feed_char_dict(captcha_letters, letters, cropped)"
   ]
  },
  {
   "cell_type": "code",
   "execution_count": 51,
   "metadata": {
    "collapsed": false,
    "scrolled": true
   },
   "outputs": [],
   "source": [
    "# 1º caractere\n",
    "cropped = [crop_char(img, 0) for img in unblobbed ]\n",
    "if plot: plot_captchas( cropped, (7, 10) )"
   ]
  },
  {
   "cell_type": "code",
   "execution_count": 52,
   "metadata": {
    "collapsed": false
   },
   "outputs": [],
   "source": [
    "letters = ('3', 'm', 'x', 'p', 'p', '2', 'm', 'k', '5', 'u',\n",
    "          'q', 'r', 'w', 's', 'k', 'f', 'x', 't', '7', 'y',\n",
    "          'd', 'r', '8', 'm', 'x', 'e', 'n', 'w', 't', 'l',\n",
    "          'e', '1', 'u', 'd', '5', 'j', 't', 'n', 'k', 'k',\n",
    "          'y', 'd', 'r', 'z', 'c', 's', '3', 't', 'o', '5',\n",
    "          'o', 'a', 'y', 'v', 'g', 'e', 'r', 's', 'w', 'z',\n",
    "          'o', 'o', 'k', 'w', '6', 'w', 'j', '5', 'd', 'k')\n",
    "\n",
    "feed_char_dict(captcha_letters, letters, cropped)"
   ]
  },
  {
   "cell_type": "markdown",
   "metadata": {},
   "source": [
    "# Salvar base de dados de Letras"
   ]
  },
  {
   "cell_type": "code",
   "execution_count": 53,
   "metadata": {
    "collapsed": false
   },
   "outputs": [],
   "source": [
    "if save: save_images(captcha_letters)"
   ]
  },
  {
   "cell_type": "code",
   "execution_count": 54,
   "metadata": {
    "collapsed": false
   },
   "outputs": [
    {
     "name": "stdout",
     "output_type": "stream",
     "text": [
      "['1', '2', '3', '4', '5', '6', '7', '8', '9', 'a', 'b', 'c', 'd', 'e', 'f', 'g', 'h', 'i', 'j', 'k', 'l', 'm', 'n', 'o', 'p', 'q', 'r', 's', 't', 'u', 'v', 'w', 'x', 'y', 'z']\n"
     ]
    }
   ],
   "source": [
    "classes = sorted(list(captcha_letters.keys()))\n",
    "print(classes)"
   ]
  }
 ],
 "metadata": {
  "kernelspec": {
   "display_name": "Python 3",
   "language": "python",
   "name": "python3"
  },
  "language_info": {
   "codemirror_mode": {
    "name": "ipython",
    "version": 3
   },
   "file_extension": ".py",
   "mimetype": "text/x-python",
   "name": "python",
   "nbconvert_exporter": "python",
   "pygments_lexer": "ipython3",
   "version": "3.5.2"
  }
 },
 "nbformat": 4,
 "nbformat_minor": 1
}
